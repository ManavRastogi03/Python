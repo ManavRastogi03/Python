{
 "cells": [
  {
   "cell_type": "code",
   "execution_count": 1,
   "metadata": {},
   "outputs": [
    {
     "data": {
      "text/plain": [
       "12.0"
      ]
     },
     "execution_count": 1,
     "metadata": {},
     "output_type": "execute_result"
    }
   ],
   "source": [
    "#debugging it is the process identifying and fixxing bug in the code \n",
    "#debuging involves>> breaking the code(checkpoints),executing the code ,inspecting the variable using print statement\n",
    "def divide(a,b):\n",
    "    return a/b\n",
    "divide(12,1)"
   ]
  },
  {
   "cell_type": "code",
   "execution_count": null,
   "metadata": {},
   "outputs": [
    {
     "ename": "ZeroDivisionError",
     "evalue": "division by zero",
     "output_type": "error",
     "traceback": [
      "\u001b[1;31m---------------------------------------------------------------------------\u001b[0m",
      "\u001b[1;31mZeroDivisionError\u001b[0m                         Traceback (most recent call last)",
      "Cell \u001b[1;32mIn[2], line 2\u001b[0m\n\u001b[0;32m      1\u001b[0m \u001b[38;5;28;01mfor\u001b[39;00m i \u001b[38;5;129;01min\u001b[39;00m \u001b[38;5;28mrange\u001b[39m(\u001b[38;5;241m-\u001b[39m\u001b[38;5;241m10\u001b[39m,\u001b[38;5;241m10\u001b[39m):\n\u001b[1;32m----> 2\u001b[0m     \u001b[43mdivide\u001b[49m\u001b[43m(\u001b[49m\u001b[43mi\u001b[49m\u001b[43m,\u001b[49m\u001b[43mi\u001b[49m\u001b[38;5;241;43m+\u001b[39;49m\u001b[38;5;241;43m1\u001b[39;49m\u001b[43m)\u001b[49m\n",
      "Cell \u001b[1;32mIn[1], line 4\u001b[0m, in \u001b[0;36mdivide\u001b[1;34m(a, b)\u001b[0m\n\u001b[0;32m      3\u001b[0m \u001b[38;5;28;01mdef\u001b[39;00m \u001b[38;5;21mdivide\u001b[39m(a,b):\n\u001b[1;32m----> 4\u001b[0m     \u001b[38;5;28;01mreturn\u001b[39;00m \u001b[43ma\u001b[49m\u001b[38;5;241;43m/\u001b[39;49m\u001b[43mb\u001b[49m\n",
      "\u001b[1;31mZeroDivisionError\u001b[0m: division by zero"
     ]
    }
   ],
   "source": [
    "for i in range(-10,10):\n",
    "    divide(i,i+1)\n",
    "#you can divide the function many time at some time it wil throw the error\n",
    "#you can debug the code >> for what value of a and be parameter,its throwing an error"
   ]
  },
  {
   "cell_type": "code",
   "execution_count": 3,
   "metadata": {},
   "outputs": [
    {
     "name": "stdout",
     "output_type": "stream",
     "text": [
      "-10 -9\n",
      "-9 -8\n",
      "-8 -7\n",
      "-7 -6\n",
      "-6 -5\n",
      "-5 -4\n",
      "-4 -3\n",
      "-3 -2\n",
      "-2 -1\n",
      "-1 0\n"
     ]
    },
    {
     "ename": "ZeroDivisionError",
     "evalue": "division by zero",
     "output_type": "error",
     "traceback": [
      "\u001b[1;31m---------------------------------------------------------------------------\u001b[0m",
      "\u001b[1;31mZeroDivisionError\u001b[0m                         Traceback (most recent call last)",
      "Cell \u001b[1;32mIn[3], line 6\u001b[0m\n\u001b[0;32m      4\u001b[0m \u001b[38;5;28;01mfor\u001b[39;00m i \u001b[38;5;129;01min\u001b[39;00m \u001b[38;5;28mrange\u001b[39m(\u001b[38;5;241m-\u001b[39m\u001b[38;5;241m10\u001b[39m,\u001b[38;5;241m10\u001b[39m):\n\u001b[0;32m      5\u001b[0m     \u001b[38;5;28mprint\u001b[39m(i,i\u001b[38;5;241m+\u001b[39m\u001b[38;5;241m1\u001b[39m)\n\u001b[1;32m----> 6\u001b[0m     \u001b[43mdivide\u001b[49m\u001b[43m(\u001b[49m\u001b[43mi\u001b[49m\u001b[43m,\u001b[49m\u001b[43mi\u001b[49m\u001b[38;5;241;43m+\u001b[39;49m\u001b[38;5;241;43m1\u001b[39;49m\u001b[43m)\u001b[49m\n",
      "Cell \u001b[1;32mIn[1], line 4\u001b[0m, in \u001b[0;36mdivide\u001b[1;34m(a, b)\u001b[0m\n\u001b[0;32m      3\u001b[0m \u001b[38;5;28;01mdef\u001b[39;00m \u001b[38;5;21mdivide\u001b[39m(a,b):\n\u001b[1;32m----> 4\u001b[0m     \u001b[38;5;28;01mreturn\u001b[39;00m \u001b[43ma\u001b[49m\u001b[38;5;241;43m/\u001b[39;49m\u001b[43mb\u001b[49m\n",
      "\u001b[1;31mZeroDivisionError\u001b[0m: division by zero"
     ]
    }
   ],
   "source": [
    "#debuging involves>> breaking the code(checkpoints),\n",
    "# executing the code ,\n",
    "# inspecting the variable using print statement\n",
    "for i in range(-10,10):\n",
    "    print(i,i+1)\n",
    "    divide(i,i+1)\n",
    "\n"
   ]
  },
  {
   "cell_type": "code",
   "execution_count": 5,
   "metadata": {},
   "outputs": [
    {
     "name": "stdout",
     "output_type": "stream",
     "text": [
      "-10 -9\n",
      "-9 -8\n",
      "-8 -7\n",
      "-7 -6\n",
      "-6 -5\n",
      "-5 -4\n",
      "-4 -3\n",
      "-3 -2\n",
      "-2 -1\n",
      "-1 0\n",
      "0 1\n",
      "1 2\n",
      "2 3\n",
      "3 4\n",
      "4 5\n",
      "5 6\n",
      "6 7\n",
      "7 8\n",
      "8 9\n",
      "9 10\n"
     ]
    }
   ],
   "source": [
    "# from print statment we are find the ehaen b is 0 ,it throw an error\n",
    "def divide(a,b):\n",
    "    if b==0:\n",
    "        return \"Zero divide error\"\n",
    "    return a/b\n",
    "for i in range(-10,10):\n",
    "    print(i,i+1)\n",
    "    divide(i,i+1)\n"
   ]
  },
  {
   "cell_type": "code",
   "execution_count": null,
   "metadata": {},
   "outputs": [],
   "source": [
    "#python statement is not a pythonic way to debug\n",
    "#print statement is good for simple script bout not complex\n",
    "#in console/terminal all the print statemenof  t will be lost\n",
    "#you use logging instead of print statement\n",
    "#logging >> it record the state and the flow of program /code /software\n",
    "#it is used to understanding ,monitoring and debugging of your \n",
    "#it show how the program behave overtime\n"
   ]
  },
  {
   "cell_type": "code",
   "execution_count": 7,
   "metadata": {},
   "outputs": [],
   "source": [
    "#loging support differnet level logging whiv=ch help to categories message based on thier "
   ]
  },
  {
   "cell_type": "code",
   "execution_count": 1,
   "metadata": {},
   "outputs": [],
   "source": [
    "import logging"
   ]
  },
  {
   "cell_type": "code",
   "execution_count": 9,
   "metadata": {},
   "outputs": [],
   "source": [
    "logging.basicConfig(filename=\"test.log\",level=logging.INFO)\n"
   ]
  },
  {
   "cell_type": "code",
   "execution_count": 10,
   "metadata": {},
   "outputs": [],
   "source": [
    "logging.info(\"This is my normal information about the software\")"
   ]
  },
  {
   "cell_type": "code",
   "execution_count": 11,
   "metadata": {},
   "outputs": [],
   "source": [
    "logging.warning(\"There can be empty list hare\")"
   ]
  },
  {
   "cell_type": "code",
   "execution_count": 12,
   "metadata": {},
   "outputs": [],
   "source": [
    "logging.debug(\"Some error has happened \")"
   ]
  },
  {
   "cell_type": "code",
   "execution_count": 13,
   "metadata": {},
   "outputs": [],
   "source": [
    "logging.critical(\"The software has stopped\")"
   ]
  },
  {
   "cell_type": "code",
   "execution_count": 14,
   "metadata": {},
   "outputs": [],
   "source": [
    "logging.shutdown()"
   ]
  },
  {
   "cell_type": "code",
   "execution_count": 15,
   "metadata": {},
   "outputs": [],
   "source": [
    "#debug >>lowest level of logging .To give the detailed information of any variable ,msg while doing debug\n",
    "#info>> this is used to convey that the code is working as expected\n",
    "#watrning >> this is used to indicate the something unexpected happen or [otienal] issue in the code\n",
    "#error>>serious problem to func\n",
    "#critical >> terminal of the program /code /software\n",
    "\n",
    "#ABOVE LEVEL OF LOGGING IS EXECUTED IN THE SAME ORDER>>DEBUG IS THE LOWEST PRIORITY AND CRITICAL IS THE HIGHEST PRIORITY\n",
    "#while definig the loging.basicConfig from that level the logs is logged\n",
    "#log level priority will start from that level whivh is used to intilized to the logging \n",
    "\n",
    "\n",
    "#example \n"
   ]
  },
  {
   "cell_type": "code",
   "execution_count": 2,
   "metadata": {},
   "outputs": [],
   "source": [
    "logging.basicConfig(filename=\"new_log.log\",level=logging.DEBUG,format='%(asctime)s %(message)s')\n"
   ]
  },
  {
   "cell_type": "code",
   "execution_count": 4,
   "metadata": {},
   "outputs": [],
   "source": [
    "logging.debug(\"THis is my debug message\")\n",
    "logging.info(\"This is my info msg\")\n",
    "logging.warning(\"This is the warning\")\n",
    "logging.shutdown()"
   ]
  },
  {
   "cell_type": "code",
   "execution_count": 1,
   "metadata": {},
   "outputs": [],
   "source": [
    "#you want to level name in the log\n",
    "import logging\n",
    "logging.basicConfig(filename=\"new1_log.log\",level=logging.DEBUG,format='%(asctime)s %(levelname)s %(message)s')\n",
    "logging.debug(\"THis is my debug message\")\n",
    "logging.info(\"This is my info msg\")\n",
    "logging.warning(\"This is the warning\")\n",
    "logging.shutdown()"
   ]
  },
  {
   "cell_type": "code",
   "execution_count": 1,
   "metadata": {},
   "outputs": [
    {
     "data": {
      "text/plain": [
       "[1, [4, 'as'], 'hiii', [1, 'derr']]"
      ]
     },
     "execution_count": 1,
     "metadata": {},
     "output_type": "execute_result"
    }
   ],
   "source": [
    "import logging\n",
    "logging.basicConfig(filename=\"programlog.log\",level=logging.DEBUG,format='%(asctime)s %(levelname)s %(message)s')\n",
    "#write a program to seprate the integer and string in to list seprately\n",
    "l=[1,[4,\"as\"],\"hiii\",[1,\"derr\"]]\n",
    "l"
   ]
  },
  {
   "cell_type": "code",
   "execution_count": 8,
   "metadata": {},
   "outputs": [],
   "source": [
    "l1_int=[]\n",
    "l2_str=[]\n",
    "l3_list=[]\n",
    "for i in l:\n",
    "    logging.info(f\"processing the each element {i}\")\n",
    "\n",
    "    if type(i)==list:\n",
    "        for j in i:\n",
    "            logging.info(f\"Processing the sublist element: {j}\")\n",
    "            if type(j)==int:\n",
    "                l1_int.append(j)     \n",
    "            elif type(j)==str:\n",
    "                l2_str.append(j)\n",
    "    elif type(i)==str:\n",
    "        l2_str.append(i)\n",
    "    else:\n",
    "        l1_int.append(i)\n",
    "logging.info(f\"The result is : {l1_int}, {l2_str}\")\n",
    "logging.shutdown()\n",
    "\n",
    "    \n",
    "    "
   ]
  },
  {
   "cell_type": "code",
   "execution_count": 3,
   "metadata": {},
   "outputs": [
    {
     "data": {
      "text/plain": [
       "[1]"
      ]
     },
     "execution_count": 3,
     "metadata": {},
     "output_type": "execute_result"
    }
   ],
   "source": [
    "l1_int"
   ]
  },
  {
   "cell_type": "code",
   "execution_count": null,
   "metadata": {},
   "outputs": [],
   "source": []
  }
 ],
 "metadata": {
  "kernelspec": {
   "display_name": "Python 3",
   "language": "python",
   "name": "python3"
  },
  "language_info": {
   "codemirror_mode": {
    "name": "ipython",
    "version": 3
   },
   "file_extension": ".py",
   "mimetype": "text/x-python",
   "name": "python",
   "nbconvert_exporter": "python",
   "pygments_lexer": "ipython3",
   "version": "3.12.0"
  }
 },
 "nbformat": 4,
 "nbformat_minor": 2
}
