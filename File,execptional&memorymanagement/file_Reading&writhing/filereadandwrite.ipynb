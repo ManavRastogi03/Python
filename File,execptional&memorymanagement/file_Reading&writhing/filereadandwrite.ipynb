{
 "cells": [
  {
   "cell_type": "code",
   "execution_count": 1,
   "metadata": {},
   "outputs": [],
   "source": [
    "textcontent=\"\"\"\n",
    "example1\n",
    "emaple2\n",
    "example3\n",
    "\"\"\""
   ]
  },
  {
   "cell_type": "code",
   "execution_count": 2,
   "metadata": {},
   "outputs": [],
   "source": [
    "with open('example.txt','w') as f:\n",
    "    f.write(textcontent)"
   ]
  },
  {
   "cell_type": "code",
   "execution_count": 6,
   "metadata": {},
   "outputs": [
    {
     "name": "stdout",
     "output_type": "stream",
     "text": [
      "\n",
      "example1\n",
      "emaple2\n",
      "example3\n",
      "\n"
     ]
    }
   ],
   "source": [
    "with open('example.txt','r') as f:\n",
    "    line=f.read()\n",
    "    print(line)"
   ]
  },
  {
   "cell_type": "code",
   "execution_count": null,
   "metadata": {},
   "outputs": [],
   "source": [
    "#csv >>comma separated values\n",
    "data=[[\"Name\",\"Course\",\"fee\"],[\"Wizard\",\"Dsai\",\"freee\"],[\"frad\",\"DSA\",\"1000\"]]"
   ]
  },
  {
   "cell_type": "code",
   "execution_count": 8,
   "metadata": {},
   "outputs": [
    {
     "name": "stdout",
     "output_type": "stream",
     "text": [
      "['Name', 'Course', 'fee']\n",
      "['Wizard', 'Dsai', 'freee']\n",
      "['frad', 'DSA', '1000']\n"
     ]
    }
   ],
   "source": [
    "for i in data:\n",
    "    print(i)"
   ]
  },
  {
   "cell_type": "code",
   "execution_count": 18,
   "metadata": {},
   "outputs": [],
   "source": [
    "import csv\n",
    "with open(\"example_csv.csv\",\"w\") as f:\n",
    "    w=csv.writer(f)\n",
    "    for i in data:\n",
    "        w.writerow(i)"
   ]
  },
  {
   "cell_type": "code",
   "execution_count": 19,
   "metadata": {},
   "outputs": [],
   "source": [
    "import csv\n",
    "with open(\"example1_csv.csv\",\"w\") as f:\n",
    "    w=csv.writer(f)\n",
    "    for i in data:\n",
    "        w.writerow(i)"
   ]
  },
  {
   "cell_type": "code",
   "execution_count": 20,
   "metadata": {},
   "outputs": [
    {
     "name": "stdout",
     "output_type": "stream",
     "text": [
      "['Name', 'Course', 'fee']\n",
      "[]\n",
      "['Wizard', 'Dsai', 'freee']\n",
      "[]\n",
      "['frad', 'DSA', '1000']\n",
      "[]\n"
     ]
    }
   ],
   "source": [
    "with open(\"example_csv.csv\",'r') as f:\n",
    "    r=csv.reader(f)\n",
    "    for i in r:\n",
    "        print(i)"
   ]
  },
  {
   "cell_type": "code",
   "execution_count": 21,
   "metadata": {},
   "outputs": [],
   "source": [
    "#Json>> Javascript object notation\n",
    "data={\"name\":\"Manav\",\n",
    "      \"College\":\"Kiet\",\n",
    "      \"Feee\":\"2lac\"\n",
    "    }\n",
    "\n"
   ]
  },
  {
   "cell_type": "code",
   "execution_count": 22,
   "metadata": {},
   "outputs": [],
   "source": [
    "import json"
   ]
  },
  {
   "cell_type": "code",
   "execution_count": 24,
   "metadata": {},
   "outputs": [],
   "source": [
    "with open(\"file_json.json\",\"w\") as f:\n",
    "    json.dump(data,f)\n",
    "    "
   ]
  },
  {
   "cell_type": "code",
   "execution_count": 26,
   "metadata": {},
   "outputs": [
    {
     "name": "stdout",
     "output_type": "stream",
     "text": [
      "{'name': 'Manav', 'College': 'Kiet', 'Feee': '2lac'}\n"
     ]
    }
   ],
   "source": [
    "with open(\"file_json.json\",'r') as f:\n",
    "    data=json.load(f)\n",
    "\n",
    "print(data)"
   ]
  },
  {
   "cell_type": "code",
   "execution_count": 27,
   "metadata": {},
   "outputs": [],
   "source": [
    "#write a binary data \n",
    "with open(\"test_bin.bin\",\"wb\") as f:\n",
    "    f.write(b\"\\x48\\x45\\x45\")"
   ]
  },
  {
   "cell_type": "code",
   "execution_count": 28,
   "metadata": {},
   "outputs": [
    {
     "name": "stdout",
     "output_type": "stream",
     "text": [
      "b'HEE'\n"
     ]
    }
   ],
   "source": [
    "with open(\"test_bin.bin\",\"rb\") as f:\n",
    "    print(f.read())"
   ]
  },
  {
   "cell_type": "code",
   "execution_count": 29,
   "metadata": {},
   "outputs": [],
   "source": [
    "#buffer reading and writting \n",
    "#it allow the program to read and write data in chunks\n"
   ]
  },
  {
   "cell_type": "code",
   "execution_count": 31,
   "metadata": {},
   "outputs": [],
   "source": [
    "import io\n",
    "with open('test_buf.txt',\"wb\")as f:\n",
    "    file=io.BufferedWriter(f)\n",
    "    file.write(b\"A computer is a machine that can be programmed to automatically carry out sequences of arithmetic or logical operations (computation). Modern digital electronic computers can perform generic sets of operations known as programs. These programs enable computers to perform a wide range of tasks. The term computer system may refer to a nominally complete computer that includes the hardware, operating system, software, and peripheral equipment needed and used for full operation; or to a group of computers that are linked and function together, such as a computer network or computer cluster.\\n\")\n",
    "    file.write(b\"Hello world how are you?\\n\")\n",
    "    file.write(b\"Hello world how are you?\\n\")\n",
    "    file.write(b\"Hello world how are you?\\n\")\n",
    "    file.flush()\n"
   ]
  },
  {
   "cell_type": "code",
   "execution_count": 34,
   "metadata": {},
   "outputs": [
    {
     "name": "stdout",
     "output_type": "stream",
     "text": [
      "b'A computer is a machine that can be programmed to automatically carry out sequences of arithmetic or'\n"
     ]
    }
   ],
   "source": [
    "with open('test_buf.txt',\"rb\")as f:\n",
    "    file=io.BufferedReader(f)\n",
    "    print(file.read(100))"
   ]
  },
  {
   "cell_type": "code",
   "execution_count": null,
   "metadata": {},
   "outputs": [],
   "source": []
  }
 ],
 "metadata": {
  "kernelspec": {
   "display_name": "Python 3",
   "language": "python",
   "name": "python3"
  },
  "language_info": {
   "codemirror_mode": {
    "name": "ipython",
    "version": 3
   },
   "file_extension": ".py",
   "mimetype": "text/x-python",
   "name": "python",
   "nbconvert_exporter": "python",
   "pygments_lexer": "ipython3",
   "version": "3.12.0"
  }
 },
 "nbformat": 4,
 "nbformat_minor": 2
}
