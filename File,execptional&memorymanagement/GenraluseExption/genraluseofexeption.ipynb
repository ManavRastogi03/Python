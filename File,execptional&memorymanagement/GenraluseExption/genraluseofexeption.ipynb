{
 "cells": [
  {
   "cell_type": "code",
   "execution_count": null,
   "metadata": {},
   "outputs": [
    {
     "name": "stdout",
     "output_type": "stream",
     "text": [
      "The code with show the error division by zero\n"
     ]
    }
   ],
   "source": [
    "# best practice: always catch specific error\n",
    "#spicification in exception handle\n",
    "try:\n",
    "    10/0\n",
    "except ZeroDivisionError as e:\n",
    "    print(\"The code with show the error\",e)\n"
   ]
  },
  {
   "cell_type": "code",
   "execution_count": 7,
   "metadata": {},
   "outputs": [
    {
     "name": "stdout",
     "output_type": "stream",
     "text": [
      "Their are some error unsupported operand type(s) for /: 'int' and 'str'\n"
     ]
    }
   ],
   "source": [
    "#another example\n",
    "try:\n",
    "    10/\"THis\"\n",
    "except TypeError as e:\n",
    "    print(\"Their are some error\",e)\n"
   ]
  },
  {
   "cell_type": "code",
   "execution_count": null,
   "metadata": {},
   "outputs": [
    {
     "name": "stdout",
     "output_type": "stream",
     "text": [
      "3.3333333333333335\n",
      "Their are some error unsupported operand type(s) for /: 'int' and 'str'\n"
     ]
    }
   ],
   "source": [
    "#benifit of handling specific error >> you now what error is expected and if other as come which you were not able to think, you will be able to address that \n",
    "try:\n",
    "    10/\"3\"\n",
    "except TypeError as e:\n",
    "    print(10/int(\"3\"))\n",
    "    print(\"Their are some error\",e)\n"
   ]
  },
  {
   "cell_type": "code",
   "execution_count": 11,
   "metadata": {},
   "outputs": [
    {
     "name": "stdout",
     "output_type": "stream",
     "text": [
      "The code with show the error division by zero\n",
      "10.0\n"
     ]
    }
   ],
   "source": [
    "try:\n",
    "    10/0\n",
    "except ZeroDivisionError as e:\n",
    "    print(\"The code with show the error\",e)\n",
    "    print(10/1)"
   ]
  },
  {
   "cell_type": "code",
   "execution_count": 13,
   "metadata": {},
   "outputs": [
    {
     "name": "stdout",
     "output_type": "stream",
     "text": [
      "The string cannot be int invalid literal for int() with base 10: 'Manav'\n"
     ]
    }
   ],
   "source": [
    "try:\n",
    "    int(\"Manav\")\n",
    "except ValueError as e:\n",
    "    print(\"The string cannot be int\",e)\n",
    "    \n",
    "\n"
   ]
  },
  {
   "cell_type": "code",
   "execution_count": 14,
   "metadata": {},
   "outputs": [
    {
     "name": "stdout",
     "output_type": "stream",
     "text": [
      "3.3333333333333335\n",
      "The division is not possible unsupported operand type(s) for /: 'int' and 'str'\n"
     ]
    }
   ],
   "source": [
    "#handling two specific expection\n",
    "try:\n",
    "    10/\"3\"\n",
    "except (ZeroDivisionError,TypeError) as e:\n",
    "    print(10/int(\"3\"))\n",
    "    print(\"The division is not possible\",e)\n"
   ]
  },
  {
   "cell_type": "code",
   "execution_count": 16,
   "metadata": {},
   "outputs": [
    {
     "name": "stdout",
     "output_type": "stream",
     "text": [
      "3.3333333333333335\n",
      "The division is not possible division by zero\n"
     ]
    }
   ],
   "source": [
    "#handling two specific expection\n",
    "try:\n",
    "    10/0\n",
    "except (ZeroDivisionError,TypeError) as e:\n",
    "    print(10/int(\"3\"))\n",
    "    print(\"The division is not possible\",e)\n"
   ]
  },
  {
   "cell_type": "code",
   "execution_count": 17,
   "metadata": {},
   "outputs": [
    {
     "name": "stdout",
     "output_type": "stream",
     "text": [
      "3.3333333333333335\n",
      "The division is not possible unsupported operand type(s) for /: 'int' and 'str'\n"
     ]
    }
   ],
   "source": [
    "#handle multiple exception in the seprate block\n",
    "#handling two specific expection\n",
    "try:\n",
    "    10/\"3\"\n",
    "except TypeError as e:\n",
    "    print(10/int(\"3\"))\n",
    "    print(\"The division is not possible\",e)\n",
    "except ZeroDivisionError as e:\n",
    "    print(\"This zero divison error\")\n",
    "    print(10/1)\n"
   ]
  },
  {
   "cell_type": "code",
   "execution_count": 19,
   "metadata": {},
   "outputs": [
    {
     "name": "stdout",
     "output_type": "stream",
     "text": [
      "Module not found No module named 'maanv'\n"
     ]
    }
   ],
   "source": [
    "try:\n",
    "    import maanv\n",
    "except ModuleNotFoundError as e:\n",
    "    print(\"Module not found\",e)\n"
   ]
  },
  {
   "cell_type": "code",
   "execution_count": 21,
   "metadata": {},
   "outputs": [
    {
     "name": "stdout",
     "output_type": "stream",
     "text": [
      "Function not define name 'test' is not defined\n"
     ]
    }
   ],
   "source": [
    "try:\n",
    "    test()\n",
    "except NameError as e:\n",
    "    print(\"Function not define\",e)"
   ]
  },
  {
   "cell_type": "code",
   "execution_count": 23,
   "metadata": {},
   "outputs": [
    {
     "name": "stdout",
     "output_type": "stream",
     "text": [
      "Key is not define 'age'\n"
     ]
    }
   ],
   "source": [
    "try:\n",
    "    d={\"Nmae\":\"MANAV\",\"Collge\":\"Kiet\"}\n",
    "    d[\"age\"]\n",
    "except KeyError as e:\n",
    "    print(\"Key is not define\",e)"
   ]
  },
  {
   "cell_type": "code",
   "execution_count": 24,
   "metadata": {},
   "outputs": [
    {
     "name": "stdout",
     "output_type": "stream",
     "text": [
      "File is not their [Errno 2] No such file or directory: 'example1.txt'\n"
     ]
    }
   ],
   "source": [
    "try:\n",
    "    f=open(\"example1.txt\",\"r\")\n",
    "    f.read()\n",
    "except FileNotFoundError as e:\n",
    "    print(\"File is not their\",e)\n"
   ]
  },
  {
   "cell_type": "code",
   "execution_count": null,
   "metadata": {},
   "outputs": [
    {
     "name": "stdout",
     "output_type": "stream",
     "text": [
      "File is not their [Errno 2] No such file or directory: 'example1.txt'\n"
     ]
    }
   ],
   "source": [
    "#best practise\n",
    "#sometime you will not know what could be the posiblle exection\n",
    "try:\n",
    "    f=open(\"example1.txt\",\"r\")\n",
    "    f.read()\n",
    "\n",
    "except FileNotFoundError as e:\n",
    "    print(\"File is not their\",e)\n",
    "except Exception as e:\n",
    "    print(\"File is not openend due to \",e)\n"
   ]
  },
  {
   "cell_type": "code",
   "execution_count": 7,
   "metadata": {},
   "outputs": [],
   "source": [
    "# best prctise always try to log\n",
    "import logging\n",
    "logging.basicConfig(filename=\"program.log\",level=logging.debug)\n",
    "try:\n",
    "    f=open(\"example1.txt\",\"r\")\n",
    "    f.read()\n",
    "\n",
    "except FileNotFoundError as e:\n",
    "    logging.error(f\"File is not their {e}\")\n",
    "except Exception as e:\n",
    "    logging.error(f\"File is not openend due to {e}\")\n"
   ]
  },
  {
   "cell_type": "code",
   "execution_count": 8,
   "metadata": {},
   "outputs": [],
   "source": [
    "import logging\n",
    "logging.basicConfig(filename=\"program1.log\",level=logging.DEBUG)\n",
    "try:\n",
    "    import maanv\n",
    "except ModuleNotFoundError as e:\n",
    "    logging.error(f\"Module not found {e}\")\n"
   ]
  },
  {
   "cell_type": "code",
   "execution_count": 9,
   "metadata": {},
   "outputs": [],
   "source": [
    "#putting execption handling as a function\n",
    "def test(file):\n",
    "    try:\n",
    "        f=open(file,'r')\n",
    "        f.read()\n",
    "    except FileNotFoundError as e:\n",
    "        logging.error(f\"My file is not found {e}\")\n"
   ]
  },
  {
   "cell_type": "code",
   "execution_count": 10,
   "metadata": {},
   "outputs": [],
   "source": [
    "test('hello.txt')"
   ]
  },
  {
   "cell_type": "code",
   "execution_count": 11,
   "metadata": {},
   "outputs": [],
   "source": [
    "#do not try to use unnessary exception/multiple execption\n"
   ]
  },
  {
   "cell_type": "code",
   "execution_count": 12,
   "metadata": {},
   "outputs": [],
   "source": [
    "#best practice always:give the proper documentation/proper comment\n",
    "def test(file):\n",
    "    \"\"\"\n",
    "    this function is about to reading the \n",
    "    file\n",
    "    Args: \n",
    "        input file(str)\n",
    "        output: text(str)\n",
    "\n",
    "        \n",
    "    \"\"\"\n",
    "    try:\n",
    "        f=open(file,'r')\n",
    "        f.read()\n",
    "    except FileNotFoundError as e:\n",
    "        logging.error(f\"My file is not found {e}\")"
   ]
  },
  {
   "cell_type": "code",
   "execution_count": 4,
   "metadata": {},
   "outputs": [],
   "source": [
    "#best practice: >> clean up the resources\n",
    "#best practice always:give the proper documentation/proper comment\n",
    "def test(file):\n",
    "    \"\"\"\n",
    "    this function is about to reading the \n",
    "    file\n",
    "    Args: \n",
    "        input file(str)\n",
    "        output: text(str)\n",
    "\n",
    "    \"\"\"\n",
    "    try:\n",
    "        f=open(file,'r')\n",
    "        f.read()\n",
    "    except FileNotFoundError as e:\n",
    "        logging.error(f\"My file is not found {e}\")\n",
    "    finally:\n",
    "        f.close()\n"
   ]
  },
  {
   "cell_type": "code",
   "execution_count": 13,
   "metadata": {},
   "outputs": [],
   "source": [
    "test(\"maanv.txt\")"
   ]
  },
  {
   "cell_type": "code",
   "execution_count": null,
   "metadata": {},
   "outputs": [],
   "source": []
  },
  {
   "cell_type": "code",
   "execution_count": null,
   "metadata": {},
   "outputs": [],
   "source": []
  }
 ],
 "metadata": {
  "kernelspec": {
   "display_name": "Python 3",
   "language": "python",
   "name": "python3"
  },
  "language_info": {
   "codemirror_mode": {
    "name": "ipython",
    "version": 3
   },
   "file_extension": ".py",
   "mimetype": "text/x-python",
   "name": "python",
   "nbconvert_exporter": "python",
   "pygments_lexer": "ipython3",
   "version": "3.12.0"
  }
 },
 "nbformat": 4,
 "nbformat_minor": 2
}
