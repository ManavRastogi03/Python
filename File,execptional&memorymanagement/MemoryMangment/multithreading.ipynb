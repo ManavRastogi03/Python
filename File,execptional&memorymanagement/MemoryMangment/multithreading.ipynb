{
 "cells": [
  {
   "cell_type": "code",
   "execution_count": null,
   "metadata": {},
   "outputs": [],
   "source": [
    "#process is the instance of program\n",
    "#process is executed i a processor\n",
    "\n",
    "\n",
    "#instead of program running in the one proceesor lets run in the all processor\n",
    "#Running the cod Parelly\n",
    "#Advatages->>1) Improve Performance\n",
    "#2)Effecient\n",
    "#3)Resource sharing\n",
    "#Scalable\n",
    "\n",
    "\n",
    "#When the multiple proccer is used that is call multiprocessing\n",
    "\n"
   ]
  },
  {
   "cell_type": "code",
   "execution_count": null,
   "metadata": {},
   "outputs": [],
   "source": [
    "#Multithreading-->Program->1processor--> It is divided into multiple thread\n",
    "#thread is the smallest unit of the process/Processing\n",
    "\n",
    "\n",
    "#By default the process in a process run on the single thread-->Single threaded process\n",
    "# if you want multiple thrad then this called as the multithreading\n",
    "#one processor-->multiple thread->multithreading \n",
    "#Multithreading executesconcurrently\n",
    "\n",
    "#concurrency-->at one points only one thread will be executint the process->>global Interpreter Lock(GIL)\n",
    "\n",
    "\n",
    "#Multithreading || Multiprocessing\n",
    "#1)Since it can works on the one processor,thread share same memory space and resources with in the process|| Mutliple proceesor are their , each processor has its own memory space resources with ae issolated to the other process\n",
    "#2) concurrent  || truely parllel\n",
    "#3)ex IO/op procesor like download adding the file (best task that are part to same appli and need to share the data &  resouces ,) || suitble for task that are indepentdenteg -> server handling ,some computation\n",
    "\n"
   ]
  },
  {
   "cell_type": "code",
   "execution_count": 1,
   "metadata": {},
   "outputs": [
    {
     "name": "stdout",
     "output_type": "stream",
     "text": [
      "Do something\n",
      "sleep in 1 sec\n",
      "Done with sleeping\n",
      "Do something\n",
      "sleep in 1 sec\n",
      "Done with sleeping\n",
      "Do something\n",
      "sleep in 1 sec\n",
      "Done with sleeping\n",
      "The program is finised 3.0045681999999942\n"
     ]
    }
   ],
   "source": [
    "import time \n",
    "start=time.perf_counter()\n",
    "def test_func():\n",
    "    print(\"Do something\")\n",
    "    print(\"sleep in 1 sec\")\n",
    "    time.sleep(1)\n",
    "    print(\"Done with sleeping\")\n",
    "test_func()\n",
    "test_func()\n",
    "test_func()\n",
    "\n",
    "end=time.perf_counter()\n",
    "print(f\"The program is finised {end-start}\")"
   ]
  },
  {
   "cell_type": "code",
   "execution_count": 4,
   "metadata": {},
   "outputs": [],
   "source": [
    "#since the program run sequentially so it take 3 sec"
   ]
  },
  {
   "cell_type": "code",
   "execution_count": 8,
   "metadata": {},
   "outputs": [
    {
     "name": "stdout",
     "output_type": "stream",
     "text": [
      "Do something\n",
      "sleep in 1 sec\n",
      "Do something\n",
      "sleep in 1 sec\n",
      "Done with sleeping\n",
      "Done with sleeping\n",
      "The program is finised 1.0381068999995477\n"
     ]
    }
   ],
   "source": [
    "import time \n",
    "import threading #python module\n",
    "start=time.perf_counter()\n",
    "def test_func():\n",
    "    print(\"Do something\")\n",
    "    print(\"sleep in 1 sec\")\n",
    "    time.sleep(1)\n",
    "    print(\"Done with sleeping\")\n",
    "t1=threading.Thread(target=test_func)\n",
    "t2=threading.Thread(target=test_func)\n",
    "\n",
    "t1.start() #to start the thread \n",
    "t2.start()\n",
    "\n",
    "t1.join()#join first then executed t1, t2 thrad and then main thread or program wil be executed\n",
    "t2.join()\n",
    "end=time.perf_counter()\n",
    "print(f\"The program is finised {end-start}\")"
   ]
  },
  {
   "cell_type": "code",
   "execution_count": 9,
   "metadata": {},
   "outputs": [
    {
     "name": "stdout",
     "output_type": "stream",
     "text": [
      "Do something\n",
      "sleep in 1 sec\n",
      "Do something\n",
      "sleep in 1 sec\n",
      "Do something\n",
      "sleep in 1 sec\n",
      "Do something\n",
      "sleep in 1 sec\n",
      "Do something\n",
      "sleep in 1 sec\n",
      "Do something\n",
      "sleep in 1 sec\n",
      "Do something\n",
      "sleep in 1 sec\n",
      "Do something\n",
      "sleep in 1 sec\n",
      "Do something\n",
      "sleep in 1 sec\n",
      "Do something\n",
      "sleep in 1 sec\n",
      "Done with sleeping\n",
      "Done with sleeping\n",
      "Done with sleeping\n",
      "Done with sleeping\n",
      "Done with sleeping\n",
      "Done with sleeping\n",
      "Done with sleeping\n",
      "Done with sleeping\n",
      "Done with sleeping\n",
      "Done with sleeping\n",
      "The program is finised 1.0981611000024714\n"
     ]
    }
   ],
   "source": [
    "import time \n",
    "import threading #python module\n",
    "start=time.perf_counter()\n",
    "def test_func():\n",
    "    print(\"Do something\")\n",
    "    print(\"sleep in 1 sec\")\n",
    "    time.sleep(1)\n",
    "    print(\"Done with sleeping\")\n",
    "t1=threading.Thread(target=test_func)\n",
    "t2=threading.Thread(target=test_func)\n",
    "threads=[]\n",
    "for i in range(10):\n",
    "    t=threading.Thread(target=test_func)\n",
    "    t.start()\n",
    "    threads.append(t)\n",
    "for thread in threads:\n",
    "    thread.join()\n",
    "\n",
    "end=time.perf_counter()\n",
    "print(f\"The program is finised {end-start}\")"
   ]
  },
  {
   "cell_type": "code",
   "execution_count": 10,
   "metadata": {},
   "outputs": [
    {
     "name": "stdout",
     "output_type": "stream",
     "text": [
      "Do something\n",
      "sleep in 2sec\n",
      "Do something\n",
      "sleep in 2sec\n",
      "Do something\n",
      "sleep in 2sec\n",
      "Do something\n",
      "sleep in 2sec\n",
      "Do something\n",
      "sleep in 2sec\n",
      "Do something\n",
      "sleep in 2sec\n",
      "Do something\n",
      "sleep in 2sec\n",
      "Do something\n",
      "sleep in 2sec\n",
      "Do something\n",
      "sleep in 2sec\n",
      "Do something\n",
      "sleep in 2sec\n",
      "Done with sleeping\n",
      "Done with sleeping\n",
      "Done with sleeping\n",
      "Done with sleeping\n",
      "Done with sleeping\n",
      "Done with sleeping\n",
      "Done with sleeping\n",
      "Done with sleeping\n",
      "Done with sleeping\n",
      "Done with sleeping\n",
      "The program is finised 2.0416392000042833\n"
     ]
    }
   ],
   "source": [
    "# since the function  in 10 time it will take 10 sec but due to multithreading it take 1 sec\n",
    "\n",
    "#using multithreading in the func that takes an argument\n",
    "import time \n",
    "import threading #python module\n",
    "start=time.perf_counter()\n",
    "def test_func(args):\n",
    "    print(\"Do something\")\n",
    "    print(f\"sleep in {args}sec\")\n",
    "    time.sleep(args)\n",
    "    print(\"Done with sleeping\")\n",
    "threads=[]\n",
    "for i in range(10):\n",
    "    t=threading.Thread(target=test_func,args=[2])\n",
    "    t.start()\n",
    "    threads.append(t)\n",
    "for thread in threads:\n",
    "    thread.join()\n",
    "\n",
    "end=time.perf_counter()\n",
    "print(f\"The program is finised {end-start}\")"
   ]
  },
  {
   "cell_type": "code",
   "execution_count": 3,
   "metadata": {},
   "outputs": [
    {
     "name": "stdout",
     "output_type": "stream",
     "text": [
      "The program is finised 1.1001274000154808\n"
     ]
    }
   ],
   "source": [
    "#use case --> works with well i/o bound task\n",
    "#eg -->reading ,wrritting file ,network communication,data base queries\n",
    "import time\n",
    "import threading\n",
    "start=time.perf_counter()\n",
    "url_list=[\n",
    "    \"https://github.com/itsfoss/text-script-files/blob/master/agatha.txt\",\n",
    "    \"https://github.com/itsfoss/text-script-files/blob/master/agatha_complete.txt\",\n",
    "    \"https://github.com/itsfoss/text-script-files/blob/master/sample_log_file.txt\"\n",
    "]\n",
    "data_list=[\"List1.txt\",\"List2.txt\",\"list4.txt\"]\n",
    "import urllib.request\n",
    "def file_download(url,filename):\n",
    "    urllib.request.urlretrieve(url,filename)\n",
    "threads=[]\n",
    "for i in range(len(url_list)):\n",
    "    t=threading.Thread(target=file_download,args=(url_list[i],data_list[i]))\n",
    "    t.start()\n",
    "    threads.append(t)\n",
    "for thread in threads:\n",
    "    thread.join()\n",
    "\n",
    "end=time.perf_counter()\n",
    "print(f\"The program is finised {end-start}\")"
   ]
  },
  {
   "cell_type": "code",
   "execution_count": 16,
   "metadata": {},
   "outputs": [
    {
     "name": "stdout",
     "output_type": "stream",
     "text": [
      "The program is finised 0.8235404000151902\n"
     ]
    }
   ],
   "source": [
    "#multithreading uses concurrent.futures >>keep code consice\n",
    "import time\n",
    "import threading\n",
    "import concurrent.futures\n",
    "import urllib.request\n",
    "start=time.perf_counter()\n",
    "url_list=[\n",
    "    \"https://github.com/itsfoss/text-script-files/blob/master/agatha.txt\",\n",
    "    \"https://github.com/itsfoss/text-script-files/blob/master/agatha_complete.txt\",\n",
    "    \"https://github.com/itsfoss/text-script-files/blob/master/sample_log_file.txt\"\n",
    "]\n",
    "data_list=[\"List1.txt\",\"List2.txt\",\"list4.txt\"]\n",
    "def file_download(url,filename):\n",
    "    urllib.request.urlretrieve(url,filename)\n",
    "with concurrent.futures.ThreadPoolExecutor() as executor:\n",
    "    executor.map(file_download,url_list,data_list)#args>> functionname with arument of the function\n",
    "\n",
    "end=time.perf_counter()\n",
    "print(f\"The program is finised {end-start}\")\n"
   ]
  },
  {
   "cell_type": "code",
   "execution_count": 15,
   "metadata": {},
   "outputs": [
    {
     "name": "stdout",
     "output_type": "stream",
     "text": [
      "The thread 1 counter is increamented 1\n",
      "The thread 2 counter is increamented 2\n",
      "The thread 3 counter is increamented 3\n",
      "The thread 4 counter is increamented 4\n",
      "The program is finised 4.015589200018439\n"
     ]
    }
   ],
   "source": [
    "#shared varble across all the thread \n",
    "import time\n",
    "import threading\n",
    "start=time.perf_counter()\n",
    "shared_counter=0\n",
    "counter_lock=threading.Lock() #locking the counter to a specific thread\n",
    "def increment_shared_counter(x):\n",
    "    global shared_counter #that can be acess by all the thread\n",
    "    with counter_lock:\n",
    "        shared_counter+=1\n",
    "        print(f\"The thread {x} counter is increamented {shared_counter}\")\n",
    "        time.sleep(1)\n",
    "threads=[threading.Thread(target=increment_shared_counter,args=(i,)) for i in [1,2,3,4]]\n",
    "for thread in threads:\n",
    "    thread.start()\n",
    "for thread in threads:\n",
    "    thread.join()\n",
    "\n",
    "end=time.perf_counter()\n",
    "print(f\"The program is finised {end-start}\")\n"
   ]
  },
  {
   "cell_type": "code",
   "execution_count": 17,
   "metadata": {},
   "outputs": [
    {
     "name": "stdout",
     "output_type": "stream",
     "text": [
      "The thread 1 counter is increamented 1\n",
      "The thread 2 counter is increamented 2\n",
      "The thread 3 counter is increamented 3\n",
      "The thread 4 counter is increamented 4\n",
      "The thread 5 counter is increamented 5\n",
      "The program is finised 5.070334299991373\n"
     ]
    }
   ],
   "source": [
    "import time\n",
    "import threading\n",
    "start=time.perf_counter()\n",
    "shared_counter=0\n",
    "counter_lock=threading.Lock() #locking the counter to a specific thread\n",
    "def increment_shared_counter(x):\n",
    "    global shared_counter #that can be acess by all the thread\n",
    "    with counter_lock:\n",
    "        shared_counter+=1\n",
    "        print(f\"The thread {x} counter is increamented {shared_counter}\")\n",
    "        time.sleep(1)\n",
    "with concurrent.futures.ThreadPoolExecutor() as executor:\n",
    "    thread_arg=[1,2,3,4,5]\n",
    "    executor.map(increment_shared_counter, thread_arg)#args>> functionname with arument of the function\n",
    "\n",
    "end=time.perf_counter()\n",
    "print(f\"The program is finised {end-start}\")"
   ]
  },
  {
   "cell_type": "code",
   "execution_count": null,
   "metadata": {},
   "outputs": [],
   "source": [
    "#summary >> shared variable can be increment by individual thread"
   ]
  }
 ],
 "metadata": {
  "kernelspec": {
   "display_name": "Python 3",
   "language": "python",
   "name": "python3"
  },
  "language_info": {
   "codemirror_mode": {
    "name": "ipython",
    "version": 3
   },
   "file_extension": ".py",
   "mimetype": "text/x-python",
   "name": "python",
   "nbconvert_exporter": "python",
   "pygments_lexer": "ipython3",
   "version": "3.12.0"
  }
 },
 "nbformat": 4,
 "nbformat_minor": 2
}
