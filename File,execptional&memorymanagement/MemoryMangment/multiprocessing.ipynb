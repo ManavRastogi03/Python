{
 "cells": [
  {
   "cell_type": "code",
   "execution_count": 13,
   "metadata": {},
   "outputs": [],
   "source": [
    "import multiprocessing"
   ]
  },
  {
   "cell_type": "code",
   "execution_count": 2,
   "metadata": {},
   "outputs": [
    {
     "name": "stdout",
     "output_type": "stream",
     "text": [
      "The program is finished 0.34389409999994314\n"
     ]
    }
   ],
   "source": [
    "import multiprocessing\n",
    "import time \n",
    "\n",
    "def test_func():\n",
    "    print(\"Do something\")\n",
    "    print(\"sleep in 1 sec\")\n",
    "    time.sleep(1)\n",
    "    print(\"Done with sleeping\")\n",
    "\n",
    "start = time.perf_counter()\n",
    "\n",
    "p1 = multiprocessing.Process(target=test_func)\n",
    "p2 = multiprocessing.Process(target=test_func)\n",
    "\n",
    "p1.start()\n",
    "p2.start()\n",
    "\n",
    "p1.join()\n",
    "p2.join()\n",
    "\n",
    "end = time.perf_counter()\n",
    "print(f\"The program is finished {end - start}\")\n"
   ]
  },
  {
   "cell_type": "code",
   "execution_count": 3,
   "metadata": {},
   "outputs": [
    {
     "name": "stdout",
     "output_type": "stream",
     "text": [
      "The program is finised 0.6375752000021748\n"
     ]
    }
   ],
   "source": [
    "#MULTIPROCESSING \n",
    "import multiprocessing\n",
    "import time \n",
    "start=time.perf_counter()\n",
    "def test_func():\n",
    "    print(\"Do something\")\n",
    "    print(\"sleep in 1 sec\")\n",
    "    time.sleep(1)\n",
    "    print(\"Done with sleeping\")\n",
    "processes=[]\n",
    "for i in range(10):\n",
    "    p=multiprocessing.Process(target=test_func)\n",
    "    p.start()\n",
    "    processes.append(p)\n",
    "for process in processes:\n",
    "    process.join()\n",
    "    \n",
    "\n",
    "end=time.perf_counter()\n",
    "print(f\"The program is finised {end-start}\")"
   ]
  },
  {
   "cell_type": "code",
   "execution_count": 1,
   "metadata": {},
   "outputs": [
    {
     "name": "stdout",
     "output_type": "stream",
     "text": [
      "[1, 3, 3, 4, 5]\n",
      "The program is finised 0.5863686999946367\n"
     ]
    }
   ],
   "source": [
    "#Multiprocessing >>should be use in case of computation\n",
    "#MULTIPROCESSING \n",
    "import multiprocessing\n",
    "import time \n",
    "start=time.perf_counter()\n",
    "def square(index,value):\n",
    "    value[index]=value[index]**2\n",
    "arr=multiprocessing.Array('i',[1,3,3,4,5])\n",
    "\n",
    "processes=[]\n",
    "for i in range(5):\n",
    "    p=multiprocessing.Process(target=square,args=(i,arr))\n",
    "    p.start()\n",
    "    processes.append(p)\n",
    "for process in processes:\n",
    "    process.join()\n",
    "print(list(arr))\n",
    "\n",
    "end=time.perf_counter()\n",
    "print(f\"The program is finised {end-start}\")\n"
   ]
  },
  {
   "cell_type": "code",
   "execution_count": null,
   "metadata": {},
   "outputs": [],
   "source": [
    "#using multiprocessing pool\n",
    "import multiprocessing\n",
    "\n",
    "import time\n",
    "start=time.perf_counter()\n",
    "def square(no):\n",
    "    result=no*no\n",
    "    print(f\"The square {no} is {result}\")\n",
    "number=[12,1,2,34,5]\n",
    "with multiprocessing.Pool() as pool:\n",
    "    pool.map(square,number)\n",
    "end=time.perf_counter()\n",
    "print(f\"The program is finised {end-start}\")\n"
   ]
  },
  {
   "cell_type": "code",
   "execution_count": null,
   "metadata": {},
   "outputs": [],
   "source": [
    "#no order in the result show core/multiprocessor being used and result returned not seqienallly>>parrlel executon of the code\n"
   ]
  }
 ],
 "metadata": {
  "kernelspec": {
   "display_name": "Python 3",
   "language": "python",
   "name": "python3"
  },
  "language_info": {
   "codemirror_mode": {
    "name": "ipython",
    "version": 3
   },
   "file_extension": ".py",
   "mimetype": "text/x-python",
   "name": "python",
   "nbconvert_exporter": "python",
   "pygments_lexer": "ipython3",
   "version": "3.12.0"
  }
 },
 "nbformat": 4,
 "nbformat_minor": 2
}
