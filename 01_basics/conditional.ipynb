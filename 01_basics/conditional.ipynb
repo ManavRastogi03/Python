{
 "cells": [
  {
   "cell_type": "code",
   "execution_count": 1,
   "metadata": {},
   "outputs": [
    {
     "name": "stdout",
     "output_type": "stream",
     "text": [
      "Ais greater then 0\n"
     ]
    }
   ],
   "source": [
    "a=110\n",
    "if a>0:\n",
    "    print(\"Ais greater then 0\")"
   ]
  },
  {
   "cell_type": "code",
   "execution_count": 3,
   "metadata": {},
   "outputs": [
    {
     "name": "stdout",
     "output_type": "stream",
     "text": [
      "This is the no of interest\n"
     ]
    }
   ],
   "source": [
    "no=24\n",
    "if((no%2==0)& (no>0)):\n",
    "    print(\"This is the no of interest\")"
   ]
  },
  {
   "cell_type": "code",
   "execution_count": 4,
   "metadata": {},
   "outputs": [
    {
     "name": "stdout",
     "output_type": "stream",
     "text": [
      "You are excellent\n"
     ]
    }
   ],
   "source": [
    "grade=8\n",
    "co_cirr=True\n",
    "if((grade>5) and (co_cirr==True)):\n",
    "    print(\"You are excellent\")"
   ]
  },
  {
   "cell_type": "code",
   "execution_count": 7,
   "metadata": {},
   "outputs": [
    {
     "name": "stdout",
     "output_type": "stream",
     "text": [
      "we can play\n"
     ]
    }
   ],
   "source": [
    "#if-else\n",
    "weather=\"sunny\"\n",
    "if(weather==\"sunny\"):\n",
    "    print(\"we can play\")\n",
    "else:\n",
    "    print(\"WE watch tv\")"
   ]
  },
  {
   "cell_type": "code",
   "execution_count": 9,
   "metadata": {},
   "outputs": [
    {
     "name": "stdout",
     "output_type": "stream",
     "text": [
      "No is Even\n"
     ]
    }
   ],
   "source": [
    "no=24\n",
    "if(no%2==0):\n",
    "    print(\"No is Even\")\n",
    "else:\n",
    "    print(\"No is odd\")"
   ]
  },
  {
   "cell_type": "code",
   "execution_count": 10,
   "metadata": {},
   "outputs": [
    {
     "name": "stdout",
     "output_type": "stream",
     "text": [
      "A is less then 100\n"
     ]
    }
   ],
   "source": [
    "a=10\n",
    "if a>100:\n",
    "    print(\"A is greater then 100\")\n",
    "elif a<100:\n",
    "    print(\"A is less then 100\")\n",
    "else:\n",
    "    print(\"A is equal to 100\")"
   ]
  },
  {
   "cell_type": "code",
   "execution_count": 11,
   "metadata": {},
   "outputs": [
    {
     "name": "stdout",
     "output_type": "stream",
     "text": [
      "X and y is greater then 5\n"
     ]
    }
   ],
   "source": [
    "#nested if \n",
    "x=13\n",
    "y=10\n",
    "if x>5:\n",
    "    if y>5:\n",
    "        print(\"X and y is greater then 5\")\n",
    "    else:\n",
    "        print(\"X is greater then 5\")\n",
    "else:\n",
    "    if y>5:\n",
    "        print(\"Y is greater then 5\" )\n",
    "    else:\n",
    "        print(\"Both is less then 5\")"
   ]
  },
  {
   "cell_type": "code",
   "execution_count": 12,
   "metadata": {},
   "outputs": [
    {
     "data": {
      "text/plain": [
       "12"
      ]
     },
     "execution_count": 12,
     "metadata": {},
     "output_type": "execute_result"
    }
   ],
   "source": [
    "#input integer\n",
    "a=int(input(\"Enterr a no\"))\n",
    "a"
   ]
  },
  {
   "cell_type": "code",
   "execution_count": 13,
   "metadata": {},
   "outputs": [
    {
     "name": "stdout",
     "output_type": "stream",
     "text": [
      "Invalid email\n"
     ]
    }
   ],
   "source": [
    "name=input(\"Enter a name\")\n",
    "email=input(\"Enter a email\")\n",
    "password=input(\"Enter a password\")\n",
    "if (name==\"\"):\n",
    "    print(\"Invalid name\")\n",
    "else:\n",
    "    if('@' not in email):\n",
    "        print(\"Invalid email\")\n",
    "    elif(len(password)<=0):\n",
    "        print(\"Invalid password\")\n",
    "    else:\n",
    "        print(\"Login suceessfully\")\n",
    "\n"
   ]
  },
  {
   "cell_type": "code",
   "execution_count": null,
   "metadata": {},
   "outputs": [],
   "source": []
  }
 ],
 "metadata": {
  "kernelspec": {
   "display_name": "Python 3",
   "language": "python",
   "name": "python3"
  },
  "language_info": {
   "codemirror_mode": {
    "name": "ipython",
    "version": 3
   },
   "file_extension": ".py",
   "mimetype": "text/x-python",
   "name": "python",
   "nbconvert_exporter": "python",
   "pygments_lexer": "ipython3",
   "version": "3.12.0"
  }
 },
 "nbformat": 4,
 "nbformat_minor": 2
}
