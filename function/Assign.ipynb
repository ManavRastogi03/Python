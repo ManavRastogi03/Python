{
 "cells": [
  {
   "cell_type": "code",
   "execution_count": 4,
   "metadata": {},
   "outputs": [
    {
     "name": "stdout",
     "output_type": "stream",
     "text": [
      "hello\n",
      "thsis the count0\n"
     ]
    }
   ],
   "source": [
    "#What is the difference between a function and a method in Python?\n",
    "'''1 A function is a block of reusable code that is defined outside of any class or object.\n",
    "2 method Defined inside a class'''\n",
    "def greet():\n",
    "    print(\"hello\")\n",
    "greet()\n",
    "class Ex:\n",
    "    count=0\n",
    "    @classmethod\n",
    "    def classmethod(cls):\n",
    "        return f\"thsis the count{cls.count}\"\n",
    "print(Ex.classmethod())\n"
   ]
  },
  {
   "cell_type": "code",
   "execution_count": 5,
   "metadata": {},
   "outputs": [
    {
     "data": {
      "text/plain": [
       "'hii.. manav'"
      ]
     },
     "execution_count": 5,
     "metadata": {},
     "output_type": "execute_result"
    }
   ],
   "source": [
    "# Explain the concept of function arguments and parameters in Python.\n",
    "''': Parameters are variables defined in the function signature.'''\n",
    "def greet(name):\n",
    "    return f\"hii.. {name}\"\n",
    "greet(\"manav\")"
   ]
  },
  {
   "cell_type": "code",
   "execution_count": 6,
   "metadata": {},
   "outputs": [
    {
     "data": {
      "text/plain": [
       "4"
      ]
     },
     "execution_count": 6,
     "metadata": {},
     "output_type": "execute_result"
    }
   ],
   "source": [
    "#What are the different ways to define and call a function in Python?\n",
    "# Simple Function\n",
    "def greet():\n",
    "    return \"hello manav\"\n",
    "#Function with Parameters\n",
    "def greet(name):\n",
    "    return f\"hello {name}\"\n",
    "# Function with Default Parameters\n",
    "def greet(name=\"manav\"):\n",
    "    return f\"hello {name}\"\n",
    "# Function with Variable-Length Arguments\n",
    "# Function definition with *args\n",
    "def sum_no(*args):\n",
    "    return sum(args)\n",
    "# Function definition with *kwargs\n",
    "def display(**kwargs):\n",
    "    for key,value in kwargs.items():\n",
    "        print(f\"{key}:{value}\")\n",
    "# lambda \n",
    "square=lambda x:x**2\n",
    "square(2)\n",
    "\n"
   ]
  },
  {
   "cell_type": "code",
   "execution_count": 7,
   "metadata": {},
   "outputs": [
    {
     "data": {
      "text/plain": [
       "22"
      ]
     },
     "execution_count": 7,
     "metadata": {},
     "output_type": "execute_result"
    }
   ],
   "source": [
    "# What is the purpose of the `return` statement in a Python function?\n",
    "# 1)\n",
    "''' 1)To Return a Value\n",
    "    2)To End Function Execution\n",
    "    3)To Pass Control Back to the Caller\n",
    "'''\n",
    "def sum(a,b):\n",
    "    return a+b\n",
    "sum(10,12)\n"
   ]
  },
  {
   "cell_type": "code",
   "execution_count": 11,
   "metadata": {},
   "outputs": [
    {
     "name": "stdout",
     "output_type": "stream",
     "text": [
      "1\n",
      "2\n",
      "3\n",
      "4\n",
      "6\n",
      "7\n",
      "8\n"
     ]
    }
   ],
   "source": [
    "#What are iterators in Python and how do they differ from iterables?\n",
    "''' An iterable is any object in Python that can be \"iterated over\" using a loop. \n",
    "An iterator is an object that represents a stream of data. It is used to traverse through the elements of an iterable one at a time.\n",
    "'''\n",
    "list1=[1,2,3,4]\n",
    "for i in list1:\n",
    "    print(i)\n",
    "list2=[6,7,8,9]\n",
    "iterator=iter(list2)\n",
    "print(next(iterator))\n",
    "print(next(iterator))\n",
    "print(next(iterator))\n"
   ]
  },
  {
   "cell_type": "code",
   "execution_count": 13,
   "metadata": {},
   "outputs": [
    {
     "name": "stdout",
     "output_type": "stream",
     "text": [
      "1\n",
      "2\n"
     ]
    }
   ],
   "source": [
    "#Explain the concept of generators in Python and how they are defined.\n",
    "'''Generators produce values one at a time, on demand, which saves memory.\n",
    "    Generators use the yield keyword instead of return to produce values.\n",
    "'''\n",
    "def genrator():\n",
    "    yield 1\n",
    "    yield 2\n",
    "    yield 3\n",
    "gen=genrator()\n",
    "print(next(gen))\n",
    "print(next(gen))\n"
   ]
  },
  {
   "cell_type": "code",
   "execution_count": 15,
   "metadata": {},
   "outputs": [
    {
     "name": "stdout",
     "output_type": "stream",
     "text": [
      "1\n",
      "2\n",
      "3\n"
     ]
    }
   ],
   "source": [
    "#7. What are the advantages of using generators over regular functions?\n",
    "''' Memory Efficiency\n",
    "Regular Functions: Return the entire data structure (e.g., list, tuple) at once, requiring all elements to be stored in memory.\n",
    "Generators: Produce one value at a time using lazy evaluation, so they don’t load all the data into memory.\n",
    "'''\n",
    "def genrator():\n",
    "    for i in range(1,100):\n",
    "        yield i\n",
    "gen=genrator()\n",
    "print(next(gen))\n",
    "print(next(gen))\n",
    "print(next(gen))\n"
   ]
  },
  {
   "cell_type": "code",
   "execution_count": 17,
   "metadata": {},
   "outputs": [
    {
     "data": {
      "text/plain": [
       "4"
      ]
     },
     "execution_count": 17,
     "metadata": {},
     "output_type": "execute_result"
    }
   ],
   "source": [
    "# What is a lambda function in Python and when is it typically used?\n",
    "''' lambda function in Python is a small, anonymous function (i.e., a function without a name). It is defined using the lambda keyword and is used for creating simple, one-line functions that are often used as arguments to higher-order functions.\n",
    "'''\n",
    "square=lambda x:x*2\n",
    "square(2)\n"
   ]
  },
  {
   "cell_type": "code",
   "execution_count": 26,
   "metadata": {},
   "outputs": [
    {
     "name": "stdout",
     "output_type": "stream",
     "text": [
      "[2, 4, 6, 8]\n"
     ]
    }
   ],
   "source": [
    "#. Explain the purpose and usage of the `map()` function in Python.\n",
    "''' The map() function is a built-in Python function used to apply a specific function to every item in an iterable (e.g., a list, tuple, etc.) and return a map object (which is an iterator).\n",
    "'''\n",
    "def double(x):\n",
    "    return x*2\n",
    "nums=[1,2,3,4]\n",
    "result=map(double,nums)\n",
    "print(list(result))"
   ]
  },
  {
   "cell_type": "code",
   "execution_count": 29,
   "metadata": {},
   "outputs": [
    {
     "name": "stdout",
     "output_type": "stream",
     "text": [
      "[1, 4, 529, 1156]\n",
      "[2, 34]\n",
      "60\n"
     ]
    }
   ],
   "source": [
    "#What is the difference between `map()`, `reduce()`, and `filter()` functions in Python?\n",
    "''' 1. map() Function\n",
    "Purpose: Applies a given function to all items in an iterable and returns an iterator that produces the transformed values\n",
    "2. filter() Function\n",
    "Purpose: Filters elements from an iterable based on a condition (provided by a function) and returns an iterator that only contains elements that satisfy the condition\n",
    "3. reduce() Function\n",
    "Purpose: Reduces an iterable to a single value by applying a function to accumulate the results of each pair of elements.\n",
    "'''\n",
    "nums=[1,2,23,34]\n",
    "result1=map(lambda x:x**2,nums)\n",
    "print(list(result1))\n",
    "result2=filter(lambda x:x%2==0,nums)\n",
    "print(list(result2))\n",
    "from functools import reduce\n",
    "result3=reduce(lambda x,y:x+y,nums)\n",
    "print(result3)"
   ]
  },
  {
   "cell_type": "code",
   "execution_count": null,
   "metadata": {},
   "outputs": [],
   "source": [
    "#11. Using pen & Paper write the internal mechanism for sum operation using  reduce function on this given\n",
    "list=[47,11,42,13]\n",
    "'''lambda x, y: x + y\n",
    "47 + 11 = 58\n",
    "58 + 42 = 100\n",
    "100 + 13 = 113\n",
    "\n",
    "'''"
   ]
  },
  {
   "cell_type": "code",
   "execution_count": 46,
   "metadata": {},
   "outputs": [
    {
     "name": "stdout",
     "output_type": "stream",
     "text": [
      "68\n"
     ]
    }
   ],
   "source": [
    "#Practical Questions:\n",
    "#1. Write a Python function that takes a list of numbers as input and returns the sum of all even numbers in the list\n",
    "def sum_no(list1):\n",
    "    sum=0\n",
    "    for i in list1:\n",
    "        if(i%2==0):\n",
    "            sum+=i\n",
    "    return sum\n",
    "list1=[1,2,3,4,56,6]\n",
    "result=sum_no(list1)\n",
    "print(result)"
   ]
  },
  {
   "cell_type": "code",
   "execution_count": 48,
   "metadata": {},
   "outputs": [
    {
     "data": {
      "text/plain": [
       "'vanam'"
      ]
     },
     "execution_count": 48,
     "metadata": {},
     "output_type": "execute_result"
    }
   ],
   "source": [
    "#2. Create a Python function that accepts a string and returns the reverse of that string.\n",
    "def reversestr(str):\n",
    "    return str[::-1]\n",
    "str=\"manav\"\n",
    "reversestr(str)"
   ]
  },
  {
   "cell_type": "code",
   "execution_count": 49,
   "metadata": {},
   "outputs": [
    {
     "data": {
      "text/plain": [
       "[1, 4, 9, 16, 25]"
      ]
     },
     "execution_count": 49,
     "metadata": {},
     "output_type": "execute_result"
    }
   ],
   "source": [
    "#3. Implement a Python function that takes a list of integers and returns a new list containing the squares of each number.\n",
    "def squareno(nums):\n",
    "    return [no**2 for no in nums]\n",
    "nums=[1,2,3,4,5]\n",
    "squareno(nums)"
   ]
  },
  {
   "cell_type": "code",
   "execution_count": 50,
   "metadata": {},
   "outputs": [
    {
     "name": "stdout",
     "output_type": "stream",
     "text": [
      "2\n",
      "3\n",
      "5\n",
      "7\n",
      "11\n",
      "13\n",
      "17\n",
      "19\n",
      "23\n",
      "29\n",
      "31\n",
      "37\n",
      "41\n",
      "43\n",
      "47\n",
      "53\n",
      "59\n",
      "61\n",
      "67\n",
      "71\n",
      "73\n",
      "79\n",
      "83\n",
      "89\n",
      "97\n",
      "101\n",
      "103\n",
      "107\n",
      "109\n",
      "113\n",
      "127\n",
      "131\n",
      "137\n",
      "139\n",
      "149\n",
      "151\n",
      "157\n",
      "163\n",
      "167\n",
      "173\n",
      "179\n",
      "181\n",
      "191\n",
      "193\n",
      "197\n",
      "199\n"
     ]
    }
   ],
   "source": [
    "#4. Write a Python function that checks if a given number is prime or not from 1 to 200\n",
    "def is_prime(n):\n",
    "    if n <= 1:\n",
    "        return False\n",
    "    for i in range(2, int(n ** 0.5) + 1): \n",
    "        if n % i == 0:\n",
    "            return False\n",
    "    return True\n",
    "for number in range(1, 201):\n",
    "    if is_prime(number):\n",
    "        print(number)\n",
    "\n"
   ]
  },
  {
   "cell_type": "code",
   "execution_count": null,
   "metadata": {},
   "outputs": [],
   "source": []
  }
 ],
 "metadata": {
  "kernelspec": {
   "display_name": "Python 3",
   "language": "python",
   "name": "python3"
  },
  "language_info": {
   "codemirror_mode": {
    "name": "ipython",
    "version": 3
   },
   "file_extension": ".py",
   "mimetype": "text/x-python",
   "name": "python",
   "nbconvert_exporter": "python",
   "pygments_lexer": "ipython3",
   "version": "3.12.0"
  }
 },
 "nbformat": 4,
 "nbformat_minor": 2
}
