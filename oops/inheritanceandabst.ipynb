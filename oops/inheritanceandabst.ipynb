{
 "cells": [
  {
   "cell_type": "code",
   "execution_count": 1,
   "metadata": {},
   "outputs": [],
   "source": [
    "#inheritance refer to process of child reciving the properties of the pearent class \n",
    "#class BaseClass:\n",
    "    #body of base class\n",
    "#class DerivedClass(Base class):\n",
    "    #body of derived class\n",
    "\n"
   ]
  },
  {
   "cell_type": "code",
   "execution_count": 2,
   "metadata": {},
   "outputs": [],
   "source": [
    "#single inheritance >>when the derived class only one parent class \n",
    "#example\n",
    "class Father:\n",
    "    def parent_prop(self):\n",
    "        print(\"This is the father property\")\n",
    "    "
   ]
  },
  {
   "cell_type": "code",
   "execution_count": 3,
   "metadata": {},
   "outputs": [],
   "source": [
    "class Son(Father):\n",
    "    def job(self):\n",
    "        print(\"Son has the property from job\")\n",
    "    "
   ]
  },
  {
   "cell_type": "code",
   "execution_count": 4,
   "metadata": {},
   "outputs": [],
   "source": [
    "child_obj=Son()"
   ]
  },
  {
   "cell_type": "code",
   "execution_count": 7,
   "metadata": {},
   "outputs": [
    {
     "name": "stdout",
     "output_type": "stream",
     "text": [
      "Son has the property from job\n",
      "This is the father property\n"
     ]
    }
   ],
   "source": [
    "#child has its prop of his and its parents\n",
    "child_obj.job()\n",
    "child_obj.parent_prop()"
   ]
  },
  {
   "cell_type": "code",
   "execution_count": 8,
   "metadata": {},
   "outputs": [],
   "source": [
    "#father will have only his prop \n",
    "father_prop=Father()\n"
   ]
  },
  {
   "cell_type": "code",
   "execution_count": 9,
   "metadata": {},
   "outputs": [
    {
     "name": "stdout",
     "output_type": "stream",
     "text": [
      "This is the father property\n"
     ]
    }
   ],
   "source": [
    "father_prop.parent_prop()"
   ]
  },
  {
   "cell_type": "code",
   "execution_count": 10,
   "metadata": {},
   "outputs": [],
   "source": [
    "class Fruit:\n",
    "    def fruit_info(self):\n",
    "        print(\"Inside the parent class\")\n",
    "class Apple(Fruit):\n",
    "    def apple_info(self):\n",
    "        print(\"Inside the child class\")\n"
   ]
  },
  {
   "cell_type": "code",
   "execution_count": 11,
   "metadata": {},
   "outputs": [
    {
     "name": "stdout",
     "output_type": "stream",
     "text": [
      "Inside the child class\n",
      "Inside the parent class\n"
     ]
    }
   ],
   "source": [
    "obj1=Apple()\n",
    "obj1.apple_info()\n",
    "obj1.fruit_info()"
   ]
  },
  {
   "cell_type": "code",
   "execution_count": 12,
   "metadata": {},
   "outputs": [
    {
     "name": "stdout",
     "output_type": "stream",
     "text": [
      "Inside the parent class\n"
     ]
    }
   ],
   "source": [
    "par=Fruit()\n",
    "par.fruit_info()"
   ]
  },
  {
   "cell_type": "code",
   "execution_count": null,
   "metadata": {},
   "outputs": [],
   "source": [
    "#method overiding>>re-writting /re-defing method of the parent class in derived class\n",
    "class Fruit:\n",
    "    def fruit_info(self):\n",
    "        print(\"Inside the parent class\")\n",
    "class Apple(Fruit):\n",
    "    def fruit_info(self):\n",
    "        print(\"Inside the child class\")\n",
    "    def apple_info(self):\n",
    "        print(\"Inside the child class\")\n",
    "#method overiding >>>child class is very -very powerful\n",
    "# method overiding btw the two class "
   ]
  },
  {
   "cell_type": "code",
   "execution_count": 18,
   "metadata": {},
   "outputs": [
    {
     "name": "stdout",
     "output_type": "stream",
     "text": [
      "Inside the child class\n",
      "Inside the child class\n"
     ]
    }
   ],
   "source": [
    "obj1=Apple()\n",
    "obj1.apple_info()\n",
    "obj1.fruit_info()"
   ]
  },
  {
   "cell_type": "code",
   "execution_count": 19,
   "metadata": {},
   "outputs": [],
   "source": [
    "#multilevel inheritance"
   ]
  },
  {
   "cell_type": "code",
   "execution_count": 21,
   "metadata": {},
   "outputs": [],
   "source": [
    "class Grandfather:\n",
    "    def prop_grandfather(self):\n",
    "        print(\"I am your grand father\")\n",
    "class Father(Grandfather):\n",
    "    def prop_father(self):\n",
    "        print(\"I am your father\")\n",
    "class Son(Father):\n",
    "    def prop_son(self):\n",
    "        print(\"I am your son\")\n",
    "\n"
   ]
  },
  {
   "cell_type": "code",
   "execution_count": null,
   "metadata": {},
   "outputs": [
    {
     "name": "stdout",
     "output_type": "stream",
     "text": [
      "I am your father\n",
      "I am your father\n",
      "I am your son\n"
     ]
    }
   ],
   "source": [
    "#it can inherit all the properties\n",
    "son=Son()\n",
    "son.prop_father()\n",
    "son.prop_father()\n",
    "son.prop_son()"
   ]
  },
  {
   "cell_type": "code",
   "execution_count": 23,
   "metadata": {},
   "outputs": [
    {
     "name": "stdout",
     "output_type": "stream",
     "text": [
      "I am your father\n",
      "I am your grand father\n"
     ]
    }
   ],
   "source": [
    "#it can only inheritent the father and grandfather\n",
    "father=Father()\n",
    "father.prop_father()\n",
    "father.prop_grandfather()"
   ]
  },
  {
   "cell_type": "code",
   "execution_count": 25,
   "metadata": {},
   "outputs": [
    {
     "name": "stdout",
     "output_type": "stream",
     "text": [
      "I am your grand father\n"
     ]
    }
   ],
   "source": [
    "#it can only inheritent the properties of the grandfather\n",
    "grandfather=Grandfather()\n",
    "grandfather.prop_grandfather()"
   ]
  },
  {
   "cell_type": "code",
   "execution_count": 26,
   "metadata": {},
   "outputs": [],
   "source": [
    "#use case \n",
    "class Vehicle:\n",
    "    def vehicle_info(self):\n",
    "        print(\"Inside the vehicle class\")\n",
    "class Car(Vehicle):\n",
    "    def car_info(self):\n",
    "        print(\"Inside the car class\")\n",
    "class SportCar(Car):\n",
    "    def sport_car(self):\n",
    "        print(\"Inside the sport class\")\n",
    "\n"
   ]
  },
  {
   "cell_type": "code",
   "execution_count": 29,
   "metadata": {},
   "outputs": [
    {
     "name": "stdout",
     "output_type": "stream",
     "text": [
      "Inside the vehicle class\n",
      "Inside the car class\n",
      "Inside the sport class\n"
     ]
    }
   ],
   "source": [
    "s1=SportCar()\n",
    "s1.vehicle_info()\n",
    "s1.car_info()\n",
    "s1.sport_car()"
   ]
  },
  {
   "cell_type": "code",
   "execution_count": 30,
   "metadata": {},
   "outputs": [],
   "source": [
    "#use case \n",
    "#method overiding \n",
    "class Vehicle:\n",
    "    def vehicle_info(self):\n",
    "        print(\"Inside the vehicle class\")\n",
    "class Car(Vehicle):\n",
    "    def vehicle_info(self):\n",
    "        print(\"Inside the car class\")\n",
    "    def car_info(self):\n",
    "        print(\"Inside the car class\")\n",
    "class SportCar(Car):\n",
    "    def sport_car(self):\n",
    "        print(\"Inside the sport class\")\n",
    "\n"
   ]
  },
  {
   "cell_type": "code",
   "execution_count": 31,
   "metadata": {},
   "outputs": [
    {
     "name": "stdout",
     "output_type": "stream",
     "text": [
      "Inside the car class\n"
     ]
    }
   ],
   "source": [
    "c1=Car()\n",
    "c1.vehicle_info()"
   ]
  },
  {
   "cell_type": "code",
   "execution_count": 33,
   "metadata": {},
   "outputs": [],
   "source": [
    "#multiple inheritance>>one child can inheritant the property of the multiple parent class"
   ]
  },
  {
   "cell_type": "code",
   "execution_count": 34,
   "metadata": {},
   "outputs": [],
   "source": [
    "class Parentclass1:\n",
    "    def method1(self):\n",
    "        print(\"method1 of Parentclass1\")\n",
    "class Parentclass2:\n",
    "    def method2(self):\n",
    "        print(\"method2 of Parentclass2\")\n",
    "class childclass(Parentclass1,Parentclass2):\n",
    "    def methodchild(self):\n",
    "        print(\"Methodchild is define childclass\")\n"
   ]
  },
  {
   "cell_type": "code",
   "execution_count": 35,
   "metadata": {},
   "outputs": [
    {
     "name": "stdout",
     "output_type": "stream",
     "text": [
      "Methodchild is define childclass\n",
      "method1 of Parentclass1\n",
      "method2 of Parentclass2\n"
     ]
    }
   ],
   "source": [
    "c1=childclass()\n",
    "c1.methodchild()\n",
    "c1.method1()\n",
    "c1.method2()"
   ]
  },
  {
   "cell_type": "code",
   "execution_count": null,
   "metadata": {},
   "outputs": [],
   "source": [
    "#all of them have the parent same method\n",
    "# diamond problem >>>it occur when a class inherit fromm to or more then 2 class >>will lead to amiguity in execution of the method\n",
    "#to remove this dimond problem>> pyhton uses method resolution order (mro) algo called c3 linearization\n",
    "#meaning that the class can inherited the first in the derived class, method will be called \n",
    "class Parentclass1:\n",
    "    def method_par(self):\n",
    "        print(\"method1 of Parentclass1\")\n",
    "class Parentclass2:\n",
    "    def method_par(self):\n",
    "        print(\"method2 of Parentclass2\")\n",
    "class childclass(Parentclass1,Parentclass2):\n",
    "    def method(self):\n",
    "        print(\"Methodchild is define childclass\")\n"
   ]
  },
  {
   "cell_type": "code",
   "execution_count": 40,
   "metadata": {},
   "outputs": [
    {
     "name": "stdout",
     "output_type": "stream",
     "text": [
      "method1 of Parentclass1\n"
     ]
    }
   ],
   "source": [
    "c1=childclass()\n",
    "c1.method_par()"
   ]
  },
  {
   "cell_type": "code",
   "execution_count": 46,
   "metadata": {},
   "outputs": [],
   "source": [
    "#diamond problem\n",
    "class A:\n",
    "    def method(self):\n",
    "        print(\"Method of the class A\")\n",
    "class B(A):\n",
    "    def method(self):\n",
    "        print(\"Method of the class b\")\n",
    "class C(A):\n",
    "    def method(self):\n",
    "        print(\"Method of the class C\")\n",
    "class D(B,C):\n",
    "    pass"
   ]
  },
  {
   "cell_type": "code",
   "execution_count": 47,
   "metadata": {},
   "outputs": [
    {
     "name": "stdout",
     "output_type": "stream",
     "text": [
      "Method of the class b\n"
     ]
    }
   ],
   "source": [
    "d=D()\n",
    "d.method()"
   ]
  },
  {
   "cell_type": "code",
   "execution_count": 48,
   "metadata": {},
   "outputs": [],
   "source": [
    "#hierarical inheritance >> onr parent class >>multiple (more then two childclass)\n"
   ]
  },
  {
   "cell_type": "code",
   "execution_count": 49,
   "metadata": {},
   "outputs": [],
   "source": [
    "class Vehicle:\n",
    "    def info(self):\n",
    "        print(\"Vechile class\")\n",
    "class Car(Vehicle):\n",
    "    def car_info(self,name):\n",
    "        print(\"This is the car info\",name)\n",
    "class Truck(Vehicle):\n",
    "    def truck_info(self,name):\n",
    "        print(\"this is the truck info\",name)"
   ]
  },
  {
   "cell_type": "code",
   "execution_count": 50,
   "metadata": {},
   "outputs": [
    {
     "name": "stdout",
     "output_type": "stream",
     "text": [
      "Vechile class\n",
      "This is the car info Bmw\n"
     ]
    }
   ],
   "source": [
    "c1=Car()\n",
    "c1.info()\n",
    "c1.car_info(\"Bmw\")"
   ]
  },
  {
   "cell_type": "code",
   "execution_count": 52,
   "metadata": {},
   "outputs": [
    {
     "name": "stdout",
     "output_type": "stream",
     "text": [
      "Vechile class\n",
      "this is the truck info Apache\n"
     ]
    }
   ],
   "source": [
    "t1=Truck()\n",
    "t1.info()\n",
    "t1.truck_info(\"Apache\")"
   ]
  },
  {
   "cell_type": "code",
   "execution_count": 53,
   "metadata": {},
   "outputs": [],
   "source": [
    "#hybrid inheritance >> multiple type >>or combination of different inheritance\n"
   ]
  },
  {
   "cell_type": "code",
   "execution_count": null,
   "metadata": {},
   "outputs": [],
   "source": [
    "class Vehicle:\n",
    "    def info(self):\n",
    "        print(\"Inside the vehicle class\")\n",
    "class Car(Vehicle):\n",
    "    def car_info(self):\n",
    "        print(\"Inside the car class\")\n",
    "class Truck(Vehicle):\n",
    "    def truck_info(self):\n",
    "        print(\"Inside the truck class\")\n",
    "class SportCar(Car,Vehicle):\n",
    "    def sport_info(self):\n",
    "        print(\"Inside the sport car\")"
   ]
  },
  {
   "cell_type": "code",
   "execution_count": 56,
   "metadata": {},
   "outputs": [
    {
     "name": "stdout",
     "output_type": "stream",
     "text": [
      "Inside the car class\n"
     ]
    }
   ],
   "source": [
    "s1=SportCar()\n",
    "s1.car_info()"
   ]
  },
  {
   "cell_type": "code",
   "execution_count": null,
   "metadata": {},
   "outputs": [],
   "source": [
    "#Abstraction>>to hide the complex implementation\n",
    "#hidding the unneeded details and exposing the required\n",
    "#abstract class canonot be instantanciated(cannot make object of it\n",
    "#abstract class should also be sub class\n",
    "#abstrat class may contain method that are just declared but not implement it"
   ]
  },
  {
   "cell_type": "markdown",
   "metadata": {},
   "source": [
    "#abstraction can be acheived using abstract class>>import abc"
   ]
  },
  {
   "cell_type": "code",
   "execution_count": 4,
   "metadata": {},
   "outputs": [],
   "source": [
    "import abc"
   ]
  },
  {
   "cell_type": "code",
   "execution_count": 7,
   "metadata": {},
   "outputs": [],
   "source": [
    "#use case\n",
    "#in any class at cousrse>> data/science ,frontend,backend,the following 3 methiod will be common\n",
    "class website:\n",
    "    \n",
    "    @abc.abstractmethod\n",
    "    def stu_details(self):\n",
    "        pass\n",
    "\n",
    "    @abc.abstractmethod\n",
    "    def stu_assign(self):\n",
    "        pass\n",
    "\n",
    "    @abc.abstractmethod\n",
    "    def stu_marks(self):\n",
    "        pass\n",
    "\n",
    "    "
   ]
  },
  {
   "cell_type": "code",
   "execution_count": 8,
   "metadata": {},
   "outputs": [],
   "source": [
    "class DatasScience(website):\n",
    "    def stu_details(self):\n",
    "        return \"Data science course details\"\n",
    "    def stu_assign(self):\n",
    "        return \"Data science assign\"\n",
    "    def stu_marks(self):\n",
    "        return \"Datasciecne marks\"\n",
    "    "
   ]
  },
  {
   "cell_type": "code",
   "execution_count": 11,
   "metadata": {},
   "outputs": [],
   "source": [
    "class devclass(website):\n",
    "    def stu_details(self):\n",
    "        return \"Dev course details\"\n",
    "    def stu_assign(self):\n",
    "        return \"Dev assign\""
   ]
  },
  {
   "cell_type": "code",
   "execution_count": null,
   "metadata": {},
   "outputs": [],
   "source": [
    "d1=devclass()\n",
    "d1.stu_marks()#it will not throw any error"
   ]
  },
  {
   "cell_type": "code",
   "execution_count": 14,
   "metadata": {},
   "outputs": [],
   "source": [
    "#use case\n",
    "class Shape:\n",
    "    @abc.abstractmethod\n",
    "    def cal_area(self):\n",
    "        pass\n",
    "class Rectangle(Shape):\n",
    "    def cal_area(self,l,b):\n",
    "        return l*b"
   ]
  },
  {
   "cell_type": "code",
   "execution_count": 15,
   "metadata": {},
   "outputs": [
    {
     "data": {
      "text/plain": [
       "6"
      ]
     },
     "execution_count": 15,
     "metadata": {},
     "output_type": "execute_result"
    }
   ],
   "source": [
    "r1=Rectangle()\n",
    "r1.cal_area(2,3)"
   ]
  },
  {
   "cell_type": "code",
   "execution_count": null,
   "metadata": {},
   "outputs": [],
   "source": []
  }
 ],
 "metadata": {
  "kernelspec": {
   "display_name": "Python 3",
   "language": "python",
   "name": "python3"
  },
  "language_info": {
   "codemirror_mode": {
    "name": "ipython",
    "version": 3
   },
   "file_extension": ".py",
   "mimetype": "text/x-python",
   "name": "python",
   "nbconvert_exporter": "python",
   "pygments_lexer": "ipython3",
   "version": "3.12.0"
  }
 },
 "nbformat": 4,
 "nbformat_minor": 2
}
