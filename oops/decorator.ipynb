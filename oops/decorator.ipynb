{
 "cells": [
  {
   "cell_type": "code",
   "execution_count": 1,
   "metadata": {},
   "outputs": [],
   "source": [
    "#decorator >>allow to modify or extends the behaviour or function/class without directly modify them \n",
    "#similar to ypur decorating your house >>exends /decorates the basics behaviour of room \n"
   ]
  },
  {
   "cell_type": "code",
   "execution_count": 2,
   "metadata": {},
   "outputs": [],
   "source": [
    "#function and class decoratoor\n",
    "#function decorator\n"
   ]
  },
  {
   "cell_type": "code",
   "execution_count": 7,
   "metadata": {},
   "outputs": [],
   "source": [
    "# To understand use case >> say you want to use line before computation and after comutation\n",
    "# after each time you create a function or call  function.So it will take a lot of time type the line repeatatvely\n",
    "#and that why the concept of the decorator comes into the picture\n",
    "def my_decorator_func():\n",
    "    print(\"The line before computation\")\n",
    "    print(11*1200)# decorating the actual computation  eith the line above and the line below \n",
    "    print(\"The line after the computation\")\n",
    "#in the above approch you have to write all the line as many time as you are creating the different function\n",
    "#let see the decorator approch \n"
   ]
  },
  {
   "cell_type": "code",
   "execution_count": 8,
   "metadata": {},
   "outputs": [
    {
     "name": "stdout",
     "output_type": "stream",
     "text": [
      "The line before computation\n",
      "13200\n",
      "The line after the computation\n"
     ]
    }
   ],
   "source": [
    "my_decorator_func()"
   ]
  },
  {
   "cell_type": "code",
   "execution_count": null,
   "metadata": {},
   "outputs": [],
   "source": [
    "# decorator approch for the function >> use case one \n",
    "def my_decorator(func):#decorator function that takes another function as a argument \n",
    "    def wrapper():# add the functionaality\n",
    "        print(\"The line before computation\")\n",
    "        func()\n",
    "        print(\"The line after the computation\")\n",
    "    return wrapper\n",
    "        "
   ]
  },
  {
   "cell_type": "code",
   "execution_count": 12,
   "metadata": {},
   "outputs": [],
   "source": [
    "@my_decorator\n",
    "def say_hello():\n",
    "    print(\"Wizard! hello\")"
   ]
  },
  {
   "cell_type": "code",
   "execution_count": null,
   "metadata": {},
   "outputs": [
    {
     "name": "stdout",
     "output_type": "stream",
     "text": [
      "The line before computation\n",
      "Wizard! hello\n",
      "The line after the computation\n"
     ]
    }
   ],
   "source": [
    "say_hello()\n",
    "# say hello first calling , the decorator method >>\n",
    "# which in retirn is called wrraper func and then wrapped func is printing the line and calling the say hello\n"
   ]
  },
  {
   "cell_type": "code",
   "execution_count": 15,
   "metadata": {},
   "outputs": [],
   "source": [
    "#another use case of the function decorator \n",
    "#run time of the code \n",
    "import time \n",
    "def time_decoraor(func):\n",
    "    def timer():\n",
    "        start=time.time()\n",
    "        func()\n",
    "        end=time.time()\n",
    "        print(\"The time of execution:\",end-start)\n",
    "    return timer"
   ]
  },
  {
   "cell_type": "code",
   "execution_count": 16,
   "metadata": {},
   "outputs": [],
   "source": [
    "@time_decoraor\n",
    "def greet():\n",
    "    print(\"Wizard is calling you\")"
   ]
  },
  {
   "cell_type": "code",
   "execution_count": 17,
   "metadata": {},
   "outputs": [
    {
     "name": "stdout",
     "output_type": "stream",
     "text": [
      "Wizard is calling you\n",
      "The time of execution: 0.0013697147369384766\n"
     ]
    }
   ],
   "source": [
    "greet()"
   ]
  },
  {
   "cell_type": "code",
   "execution_count": 20,
   "metadata": {},
   "outputs": [],
   "source": [
    "#why do we need decorator ?\n",
    "# resuibility of the code >> reuse the coommon code \n",
    "# enhabcing the function without mof=dify the original function\n",
    "#use case >> execution if the time of the coode,logging ,caching ,data validation"
   ]
  },
  {
   "cell_type": "code",
   "execution_count": 39,
   "metadata": {},
   "outputs": [],
   "source": [
    "#class decorator\n",
    "class my_decorator:\n",
    "    def __init__(self,func):#similar to the function decorator you are passing func to the class decorator \n",
    "        self.func=func\n",
    "        print(\"Inside the init method\")\n",
    "    def __call__(self):# call is the speicail method which is called/invovked when you call the instance/object o fthe class as a function\n",
    "        print(\"Something is happing before function\")\n",
    "        self.func()\n",
    "        print(\"Something is happinning after function\")\n",
    "\n"
   ]
  },
  {
   "cell_type": "code",
   "execution_count": 40,
   "metadata": {},
   "outputs": [
    {
     "name": "stdout",
     "output_type": "stream",
     "text": [
      "Inside the init method\n"
     ]
    }
   ],
   "source": [
    "@my_decorator# class __call__ will be exectuted\n",
    "def say_hello():\n",
    "    print(\"Hello\")"
   ]
  },
  {
   "cell_type": "code",
   "execution_count": 29,
   "metadata": {},
   "outputs": [
    {
     "name": "stdout",
     "output_type": "stream",
     "text": [
      "Something is happing before function\n",
      "Hello\n",
      "Something is happinning after function\n"
     ]
    }
   ],
   "source": [
    "say_hello()"
   ]
  },
  {
   "cell_type": "code",
   "execution_count": 41,
   "metadata": {},
   "outputs": [
    {
     "name": "stdout",
     "output_type": "stream",
     "text": [
      "Inside the init method\n"
     ]
    }
   ],
   "source": [
    "#class decorator\n",
    "class my_decorator:\n",
    "    def __init__(self):#similar to the function decorator you are passing func to the class decorator \n",
    "        # self.func=func\n",
    "        print(\"Inside the init method\")\n",
    "    def __call__(self):# call is the speicail method which is called/invovked when you call the instance/object o fthe class as a function\n",
    "        print(\"Something is happing before function\")\n",
    "        # self.func()\n",
    "        print(\"Something is happinning after function\")\n",
    "\n",
    "\n",
    "obj1=my_decorator()# when you make an object of the class ,init is executed first"
   ]
  },
  {
   "cell_type": "code",
   "execution_count": 42,
   "metadata": {},
   "outputs": [
    {
     "name": "stdout",
     "output_type": "stream",
     "text": [
      "Something is happing before function\n",
      "Something is happinning after function\n"
     ]
    }
   ],
   "source": [
    "obj1()# when you call an object of class as function the __call__ method will be invoke"
   ]
  },
  {
   "cell_type": "code",
   "execution_count": 43,
   "metadata": {},
   "outputs": [],
   "source": [
    "#some inbuilt decorator >>detatils in the next proerty\n",
    "#@classmethod >> it takes itself as the first argument\n"
   ]
  },
  {
   "cell_type": "code",
   "execution_count": 49,
   "metadata": {},
   "outputs": [],
   "source": [
    "class Math:\n",
    "    @classmethod #takes refrence to the class itself to modify and acess class level attributes \n",
    "    def add(cls,x,y):\n",
    "        return cls.__name__,x+y# cls.__name__>>class Math refreing to the class "
   ]
  },
  {
   "cell_type": "code",
   "execution_count": 50,
   "metadata": {},
   "outputs": [
    {
     "data": {
      "text/plain": [
       "('Math', 8)"
      ]
     },
     "execution_count": 50,
     "metadata": {},
     "output_type": "execute_result"
    }
   ],
   "source": [
    "#you dont need init method to take the data\n",
    "Math.add(3,5)"
   ]
  },
  {
   "cell_type": "code",
   "execution_count": 51,
   "metadata": {},
   "outputs": [],
   "source": [
    "#class methood is bound to the class and not the instance of the class \n",
    "#class itself as the first argument>>conventially cls "
   ]
  },
  {
   "cell_type": "code",
   "execution_count": 1,
   "metadata": {},
   "outputs": [],
   "source": [
    "#static method >> the method which can be called without creating any instance of the class,and without using any self or self\n",
    "class Math:\n",
    "    def add(self,x,y):\n",
    "        return x+y\n",
    "    "
   ]
  },
  {
   "cell_type": "code",
   "execution_count": 2,
   "metadata": {},
   "outputs": [],
   "source": [
    "a=Math()"
   ]
  },
  {
   "cell_type": "code",
   "execution_count": null,
   "metadata": {},
   "outputs": [
    {
     "data": {
      "text/plain": [
       "5"
      ]
     },
     "execution_count": 4,
     "metadata": {},
     "output_type": "execute_result"
    }
   ],
   "source": [
    "a.add(2,3)# thi is the way to call regualar class method"
   ]
  },
  {
   "cell_type": "code",
   "execution_count": 5,
   "metadata": {},
   "outputs": [],
   "source": [
    "class Math:\n",
    "    @staticmethod\n",
    "    def add(x,y):\n",
    "        return x+y"
   ]
  },
  {
   "cell_type": "code",
   "execution_count": 6,
   "metadata": {},
   "outputs": [
    {
     "data": {
      "text/plain": [
       "6"
      ]
     },
     "execution_count": 6,
     "metadata": {},
     "output_type": "execute_result"
    }
   ],
   "source": [
    "Math.add(2,4)"
   ]
  },
  {
   "cell_type": "code",
   "execution_count": 7,
   "metadata": {},
   "outputs": [],
   "source": [
    "#class method >> cls has first argument,acess and modify class level state, when ypu wabnt to mofify class level data\n",
    "#static method >> no first argument,cannot acess ,when you dont want to interact with class level data"
   ]
  },
  {
   "cell_type": "code",
   "execution_count": 8,
   "metadata": {},
   "outputs": [],
   "source": [
    "#propety method >>it allows method to acess as attributes\n",
    "class Circle:\n",
    "    def __init__(self,r):\n",
    "        self.r=r\n",
    "        "
   ]
  },
  {
   "cell_type": "code",
   "execution_count": 10,
   "metadata": {},
   "outputs": [],
   "source": [
    "obj=Circle(5)"
   ]
  },
  {
   "cell_type": "code",
   "execution_count": 11,
   "metadata": {},
   "outputs": [
    {
     "data": {
      "text/plain": [
       "5"
      ]
     },
     "execution_count": 11,
     "metadata": {},
     "output_type": "execute_result"
    }
   ],
   "source": [
    "obj.r"
   ]
  },
  {
   "cell_type": "code",
   "execution_count": 12,
   "metadata": {},
   "outputs": [],
   "source": [
    "\n",
    "class Circle:\n",
    "    def __init__(self,r):\n",
    "        self.r=r\n",
    "    def area(self):\n",
    "        r=self.r\n",
    "        return 3.14*r**2    "
   ]
  },
  {
   "cell_type": "code",
   "execution_count": 13,
   "metadata": {},
   "outputs": [
    {
     "data": {
      "text/plain": [
       "28.26"
      ]
     },
     "execution_count": 13,
     "metadata": {},
     "output_type": "execute_result"
    }
   ],
   "source": [
    "obj=Circle(3)\n",
    "obj.area()"
   ]
  },
  {
   "cell_type": "code",
   "execution_count": 14,
   "metadata": {},
   "outputs": [],
   "source": [
    "\n",
    "class Circle:\n",
    "    def __init__(self,r):\n",
    "        self.r=r\n",
    "    @property\n",
    "    def area(self):\n",
    "        r=self.r\n",
    "        return 3.14*r**2    "
   ]
  },
  {
   "cell_type": "code",
   "execution_count": 16,
   "metadata": {},
   "outputs": [
    {
     "data": {
      "text/plain": [
       "28.26"
      ]
     },
     "execution_count": 16,
     "metadata": {},
     "output_type": "execute_result"
    }
   ],
   "source": [
    "obj=Circle(3)\n",
    "obj.area# no need of pranthisis\n"
   ]
  },
  {
   "cell_type": "code",
   "execution_count": null,
   "metadata": {},
   "outputs": [],
   "source": []
  }
 ],
 "metadata": {
  "kernelspec": {
   "display_name": "Python 3",
   "language": "python",
   "name": "python3"
  },
  "language_info": {
   "codemirror_mode": {
    "name": "ipython",
    "version": 3
   },
   "file_extension": ".py",
   "mimetype": "text/x-python",
   "name": "python",
   "nbconvert_exporter": "python",
   "pygments_lexer": "ipython3",
   "version": "3.12.0"
  }
 },
 "nbformat": 4,
 "nbformat_minor": 2
}
