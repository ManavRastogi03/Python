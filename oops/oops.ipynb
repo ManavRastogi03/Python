{
 "cells": [
  {
   "cell_type": "code",
   "execution_count": 2,
   "metadata": {},
   "outputs": [
    {
     "data": {
      "text/plain": [
       "5"
      ]
     },
     "execution_count": 2,
     "metadata": {},
     "output_type": "execute_result"
    }
   ],
   "source": [
    "#oops is the object oriented progimming system\n",
    "a=5\n",
    "a"
   ]
  },
  {
   "cell_type": "code",
   "execution_count": 4,
   "metadata": {},
   "outputs": [
    {
     "name": "stdout",
     "output_type": "stream",
     "text": [
      "<class 'int'>\n"
     ]
    }
   ],
   "source": [
    "print(type(a))"
   ]
  },
  {
   "cell_type": "code",
   "execution_count": 5,
   "metadata": {},
   "outputs": [
    {
     "name": "stdout",
     "output_type": "stream",
     "text": [
      "<class 'str'>\n"
     ]
    }
   ],
   "source": [
    "s=\"pwskill\"\n",
    "print(type(s))"
   ]
  },
  {
   "cell_type": "code",
   "execution_count": 6,
   "metadata": {},
   "outputs": [],
   "source": [
    "class Car:\n",
    "    pass"
   ]
  },
  {
   "cell_type": "code",
   "execution_count": 8,
   "metadata": {},
   "outputs": [],
   "source": [
    "c1=Car()#instace/object"
   ]
  },
  {
   "cell_type": "code",
   "execution_count": 10,
   "metadata": {},
   "outputs": [
    {
     "name": "stdout",
     "output_type": "stream",
     "text": [
      "<class '__main__.Car'>\n"
     ]
    }
   ],
   "source": [
    "print(type(c1))"
   ]
  },
  {
   "cell_type": "code",
   "execution_count": null,
   "metadata": {},
   "outputs": [
    {
     "name": "stdout",
     "output_type": "stream",
     "text": [
      "car is accerlerate\n"
     ]
    }
   ],
   "source": [
    "class Car:#method/function of a car\n",
    "    def acc(self):\n",
    "        print(\"car is accerlerate\")\n",
    "c1=Car()\n",
    "c1.acc()\n",
    "#self is a varibable that represent the instance of the class using which you can acess method/functionof the class\n",
    "#self make sure that each object knows that the method is associated with it \n",
    "#in other words the method  is refrenced to that particular object "
   ]
  },
  {
   "cell_type": "code",
   "execution_count": 13,
   "metadata": {},
   "outputs": [
    {
     "name": "stdout",
     "output_type": "stream",
     "text": [
      "car is accerlerate\n"
     ]
    }
   ],
   "source": [
    "c2=Car()\n",
    "c2.acc()"
   ]
  },
  {
   "cell_type": "code",
   "execution_count": 14,
   "metadata": {},
   "outputs": [
    {
     "name": "stdout",
     "output_type": "stream",
     "text": [
      "Car can be deccelerate\n"
     ]
    }
   ],
   "source": [
    "class Car:#method/function of a car\n",
    "    def acc(self):\n",
    "        print(\"car is accerlerate\")\n",
    "    def dec(self):\n",
    "        print(\"Car can be deccelerate\")\n",
    "c1=Car()\n",
    "c1.dec()"
   ]
  },
  {
   "cell_type": "code",
   "execution_count": 16,
   "metadata": {},
   "outputs": [
    {
     "name": "stdout",
     "output_type": "stream",
     "text": [
      "My ammount 2000 deposited\n"
     ]
    }
   ],
   "source": [
    "class Bank:\n",
    "    def Deposit(self):\n",
    "        print(\"My ammount 2000 deposited\")\n",
    "    def credit(self):\n",
    "        print(\"credit ammount 2000\")\n",
    "b1=Bank()\n",
    "b1.Deposit()\n",
    "#self is not a python keyword,you can pass any varible name"
   ]
  },
  {
   "cell_type": "code",
   "execution_count": 26,
   "metadata": {},
   "outputs": [
    {
     "name": "stdout",
     "output_type": "stream",
     "text": [
      "ammount deposited\n"
     ]
    }
   ],
   "source": [
    "#passing data in the class>>can also be called as properties and attributes\n",
    "class Bank:\n",
    "    amount=1000\n",
    "    def Deposit(self,amount):\n",
    "        print(\"ammount deposited\")\n",
    "    def credit(self,amount):\n",
    "        print(\"credit ammount \")\n",
    "b1=Bank()\n",
    "b1.Deposit(10000)\n",
    "#self is not a python keyword,you can pass any varible name"
   ]
  },
  {
   "cell_type": "code",
   "execution_count": 31,
   "metadata": {},
   "outputs": [
    {
     "name": "stdout",
     "output_type": "stream",
     "text": [
      "credit ammount \n"
     ]
    },
    {
     "data": {
      "text/plain": [
       "1000"
      ]
     },
     "execution_count": 31,
     "metadata": {},
     "output_type": "execute_result"
    }
   ],
   "source": [
    "#aributes /properties can be acessed as the same way as the method/function can acess\n",
    "b1=Bank()\n",
    "b1.credit(2000)\n",
    "b1.amount"
   ]
  },
  {
   "cell_type": "code",
   "execution_count": 40,
   "metadata": {},
   "outputs": [],
   "source": [
    "#extract odd and even no of the list\n",
    "class Lstops:\n",
    "    l=[1,2,3,4,5]\n",
    "    def extract_evn(self,l):\n",
    "        l1=[]\n",
    "        for i in l:\n",
    "            if(i%2==0):\n",
    "                l1.append(i)\n",
    "        return l1\n",
    "    def extract_odd(self,l):\n",
    "        l1=[]\n",
    "        for i in l:\n",
    "            if(i%2!=0):\n",
    "                l1.append(i)\n",
    "        return l1"
   ]
  },
  {
   "cell_type": "code",
   "execution_count": 41,
   "metadata": {},
   "outputs": [
    {
     "data": {
      "text/plain": [
       "[1, 2, 3, 4, 5]"
      ]
     },
     "execution_count": 41,
     "metadata": {},
     "output_type": "execute_result"
    }
   ],
   "source": [
    "op1=Lstops()\n",
    "op1.l\n"
   ]
  },
  {
   "cell_type": "code",
   "execution_count": 42,
   "metadata": {},
   "outputs": [
    {
     "data": {
      "text/plain": [
       "[2, 4]"
      ]
     },
     "execution_count": 42,
     "metadata": {},
     "output_type": "execute_result"
    }
   ],
   "source": [
    "op1.extract_evn(op1.l)"
   ]
  },
  {
   "cell_type": "code",
   "execution_count": 43,
   "metadata": {},
   "outputs": [
    {
     "data": {
      "text/plain": [
       "[1, 3, 5]"
      ]
     },
     "execution_count": 43,
     "metadata": {},
     "output_type": "execute_result"
    }
   ],
   "source": [
    "op1.extract_odd(op1.l)"
   ]
  },
  {
   "cell_type": "code",
   "execution_count": 44,
   "metadata": {},
   "outputs": [
    {
     "data": {
      "text/plain": [
       "[12, 34, 56]"
      ]
     },
     "execution_count": 44,
     "metadata": {},
     "output_type": "execute_result"
    }
   ],
   "source": [
    "op1.extract_evn([12,21,34,45,56])"
   ]
  },
  {
   "cell_type": "code",
   "execution_count": 45,
   "metadata": {},
   "outputs": [
    {
     "data": {
      "text/plain": [
       "[1, 2, 3, 4, 5]"
      ]
     },
     "execution_count": 45,
     "metadata": {},
     "output_type": "execute_result"
    }
   ],
   "source": [
    "#if you will make any object the attribute l is fixed\n",
    "#insipite of passsing the different list above you are still getting the fixed list\n",
    "op1.l"
   ]
  },
  {
   "cell_type": "code",
   "execution_count": 58,
   "metadata": {},
   "outputs": [],
   "source": [
    "#you want to take the attributes of the class for each object differntly\n",
    "class Lstops:\n",
    "    def __init__(self,l): #magic method/dunder method init means intialization>>of variable\n",
    "        self.l=l\n",
    "    def extract_evn(self):\n",
    "        l=self.l#modify\n",
    "        l1=[]\n",
    "        for i in l:\n",
    "            if(i%2==0):\n",
    "                l1.append(i)\n",
    "        return l1\n",
    "    def extract_odd(self):\n",
    "        l=self.l#modify\n",
    "        l1=[]\n",
    "        for i in l:\n",
    "            if(i%2!=0):\n",
    "                l1.append(i)\n",
    "        return l1"
   ]
  },
  {
   "cell_type": "code",
   "execution_count": null,
   "metadata": {},
   "outputs": [
    {
     "ename": "TypeError",
     "evalue": "Lstops.__init__() missing 1 required positional argument: 'l'",
     "output_type": "error",
     "traceback": [
      "\u001b[1;31m---------------------------------------------------------------------------\u001b[0m",
      "\u001b[1;31mTypeError\u001b[0m                                 Traceback (most recent call last)",
      "Cell \u001b[1;32mIn[47], line 1\u001b[0m\n\u001b[1;32m----> 1\u001b[0m ops1\u001b[38;5;241m=\u001b[39m\u001b[43mLstops\u001b[49m\u001b[43m(\u001b[49m\u001b[43m)\u001b[49m\n",
      "\u001b[1;31mTypeError\u001b[0m: Lstops.__init__() missing 1 required positional argument: 'l'"
     ]
    }
   ],
   "source": [
    "ops1=Lstops()#throw an error , while making object/instance of the class, the first method that is executed is __init__"
   ]
  },
  {
   "cell_type": "code",
   "execution_count": 60,
   "metadata": {},
   "outputs": [
    {
     "data": {
      "text/plain": [
       "[12, 13, 34, 45, 67]"
      ]
     },
     "execution_count": 60,
     "metadata": {},
     "output_type": "execute_result"
    }
   ],
   "source": [
    "ops1=Lstops([12,13,34,45,67])\n",
    "ops1.l"
   ]
  },
  {
   "cell_type": "code",
   "execution_count": null,
   "metadata": {},
   "outputs": [
    {
     "data": {
      "text/plain": [
       "[44, 56, 78]"
      ]
     },
     "execution_count": 67,
     "metadata": {},
     "output_type": "execute_result"
    }
   ],
   "source": [
    "ops2=Lstops([1,23,44,56,78])\n",
    "ops2.extract_evn()"
   ]
  },
  {
   "cell_type": "code",
   "execution_count": 62,
   "metadata": {},
   "outputs": [
    {
     "data": {
      "text/plain": [
       "[1, 23, 44, 56, 78]"
      ]
     },
     "execution_count": 62,
     "metadata": {},
     "output_type": "execute_result"
    }
   ],
   "source": [
    "ops2.l"
   ]
  },
  {
   "cell_type": "code",
   "execution_count": 64,
   "metadata": {},
   "outputs": [
    {
     "data": {
      "text/plain": [
       "[44, 56, 78]"
      ]
     },
     "execution_count": 64,
     "metadata": {},
     "output_type": "execute_result"
    }
   ],
   "source": [
    "ops2.extract_evn()"
   ]
  },
  {
   "cell_type": "code",
   "execution_count": 66,
   "metadata": {},
   "outputs": [
    {
     "data": {
      "text/plain": [
       "[13, 45, 67]"
      ]
     },
     "execution_count": 66,
     "metadata": {},
     "output_type": "execute_result"
    }
   ],
   "source": [
    "ops1.extract_odd()"
   ]
  },
  {
   "cell_type": "code",
   "execution_count": 71,
   "metadata": {},
   "outputs": [],
   "source": [
    "\n",
    "class Lstops:\n",
    "    def __init__(self,l): \n",
    "        self.l2=l#modify\n",
    "    def extract_evn(self):\n",
    "        l=self.l2#modify\n",
    "        l1=[]\n",
    "        for i in l:\n",
    "            if(i%2==0):\n",
    "                l1.append(i)\n",
    "        return l1\n",
    "    def extract_odd(self):\n",
    "        l=self.l2#modify\n",
    "        l1=[]\n",
    "        for i in l:\n",
    "            if(i%2!=0):\n",
    "                l1.append(i)\n",
    "        return l1"
   ]
  },
  {
   "cell_type": "code",
   "execution_count": 74,
   "metadata": {},
   "outputs": [],
   "source": [
    "#multiple attributes\n",
    "#in a library a book associated with author title name\n",
    "class Book():\n",
    "    def __init__(self,name,author,title):\n",
    "        self.name_of_book=name\n",
    "        self.book_author=author\n",
    "        self.title_of_book=title\n",
    "    def extract_detail_name_and_title(self):\n",
    "        name=self.name_of_book\n",
    "        title=self.title_of_book\n",
    "        print(f\"name:{name},title:{title}\")"
   ]
  },
  {
   "cell_type": "code",
   "execution_count": 75,
   "metadata": {},
   "outputs": [],
   "source": [
    "b1=Book(\"Ml\",\"Murphy\",\"Linear regression\")"
   ]
  },
  {
   "cell_type": "code",
   "execution_count": 78,
   "metadata": {},
   "outputs": [
    {
     "name": "stdout",
     "output_type": "stream",
     "text": [
      "name:Ml,title:Linear regression\n"
     ]
    }
   ],
   "source": [
    "b1.extract_detail_name_and_title()"
   ]
  },
  {
   "cell_type": "code",
   "execution_count": 81,
   "metadata": {},
   "outputs": [],
   "source": [
    "b2=Book(\"stats\",\"joss\",\"descriptive stats\")"
   ]
  },
  {
   "cell_type": "code",
   "execution_count": 82,
   "metadata": {},
   "outputs": [
    {
     "name": "stdout",
     "output_type": "stream",
     "text": [
      "name:stats,title:descriptive stats\n"
     ]
    }
   ],
   "source": [
    "b2.extract_detail_name_and_title()"
   ]
  },
  {
   "cell_type": "code",
   "execution_count": 86,
   "metadata": {},
   "outputs": [],
   "source": [
    "#multiple attributes\n",
    "\n",
    "class Book():\n",
    "    def __init__(self):\n",
    "        self.name_of_book=\"DSA\"\n",
    "        self.book_author=\"Corner\"\n",
    "        self.title_of_book=\"Stacks\"\n",
    "    def extract_detail_name_and_title(self):\n",
    "        name=self.name_of_book\n",
    "        title=self.title_of_book\n",
    "        print(f\"name:{name},title:{title}\")"
   ]
  },
  {
   "cell_type": "code",
   "execution_count": 87,
   "metadata": {},
   "outputs": [
    {
     "name": "stdout",
     "output_type": "stream",
     "text": [
      "name:DSA,title:Stacks\n"
     ]
    }
   ],
   "source": [
    "st1=Book()\n",
    "st1.extract_detail_name_and_title()"
   ]
  },
  {
   "cell_type": "code",
   "execution_count": null,
   "metadata": {},
   "outputs": [],
   "source": []
  }
 ],
 "metadata": {
  "kernelspec": {
   "display_name": "Python 3",
   "language": "python",
   "name": "python3"
  },
  "language_info": {
   "codemirror_mode": {
    "name": "ipython",
    "version": 3
   },
   "file_extension": ".py",
   "mimetype": "text/x-python",
   "name": "python",
   "nbconvert_exporter": "python",
   "pygments_lexer": "ipython3",
   "version": "3.12.0"
  }
 },
 "nbformat": 4,
 "nbformat_minor": 2
}
